{
 "cells": [
  {
   "cell_type": "code",
   "execution_count": 19,
   "metadata": {
    "collapsed": false
   },
   "outputs": [],
   "source": [
    "%matplotlib inline\n",
    "import pandas as pd\n",
    "import numpy as np\n",
    "import matplotlib.pyplot as plt\n",
    "import seaborn as sns\n",
    "\n",
    "import sklearn.metrics as metrics\n",
    "from __future__ import division\n",
    "\n",
    "from sklearn.cluster import KMeans\n",
    "from sklearn.metrics import silhouette_score\n",
    "from sklearn.preprocessing import scale\n",
    "from sklearn import cross_validation\n",
    "from sklearn.ensemble import RandomForestClassifier\n",
    "from sklearn.preprocessing import StandardScaler\n",
    "from sklearn import linear_model\n",
    "from sklearn.ensemble import RandomForestClassifier, GradientBoostingClassifier, AdaBoostClassifier\n"
   ]
  },
  {
   "cell_type": "code",
   "execution_count": 3,
   "metadata": {
    "collapsed": true
   },
   "outputs": [],
   "source": [
    "data_dir = 'data/'"
   ]
  },
  {
   "cell_type": "code",
   "execution_count": 4,
   "metadata": {
    "collapsed": false
   },
   "outputs": [],
   "source": [
    "draft = pd.read_csv(data_dir + 'draft_clean.csv', sep = '\\t', index_col = 0)\n",
    "ncaa = pd.read_csv(data_dir + 'ncaa_players_clean.csv', sep = '\\t', index_col = 0)\n",
    "ncaa_division = pd.read_csv(data_dir + 'ncaa_divisions.csv')"
   ]
  },
  {
   "cell_type": "code",
   "execution_count": 5,
   "metadata": {
    "collapsed": false
   },
   "outputs": [
    {
     "name": "stdout",
     "output_type": "stream",
     "text": [
      "               namekeys                 Player  Year  Rd  Pk   Tm  dummy\n",
      "0          masonplumlee          Mason Plumlee  2013   1  22  BRK      1\n",
      "1            rudygobert            Rudy Gobert  2013   1  27  DEN      1\n",
      "2           stevenadams           Steven Adams  2013   1  12  OKC      1\n",
      "3  giannisantetokounmpo  Giannis Antetokounmpo  2013   1  15  MIL      1\n",
      "4            codyzeller            Cody Zeller  2013   1   4  CHA      1\n",
      "              Year          Rd          Pk  dummy\n",
      "count   180.000000  180.000000  180.000000    180\n",
      "mean   2014.000000    1.500000   30.500000      1\n",
      "std       0.818774    0.501395   17.366409      0\n",
      "min    2013.000000    1.000000    1.000000      1\n",
      "25%    2013.000000    1.000000   15.750000      1\n",
      "50%    2014.000000    1.500000   30.500000      1\n",
      "75%    2015.000000    2.000000   45.250000      1\n",
      "max    2015.000000    2.000000   60.000000      1\n"
     ]
    }
   ],
   "source": [
    "draft['dummy'] = 1\n",
    "print draft.head()\n",
    "print draft.describe()\n"
   ]
  },
  {
   "cell_type": "code",
   "execution_count": 6,
   "metadata": {
    "collapsed": false
   },
   "outputs": [
    {
     "data": {
      "text/html": [
       "<div>\n",
       "<table border=\"1\" class=\"dataframe\">\n",
       "  <thead>\n",
       "    <tr style=\"text-align: right;\">\n",
       "      <th></th>\n",
       "      <th>school_name</th>\n",
       "      <th>school_id</th>\n",
       "      <th>year</th>\n",
       "      <th>name</th>\n",
       "      <th>player_id</th>\n",
       "      <th>class_year</th>\n",
       "      <th>season</th>\n",
       "      <th>position</th>\n",
       "      <th>height</th>\n",
       "      <th>games</th>\n",
       "      <th>...</th>\n",
       "      <th>blocks</th>\n",
       "      <th>blocks_per_game</th>\n",
       "      <th>steals</th>\n",
       "      <th>steals_per_game</th>\n",
       "      <th>points</th>\n",
       "      <th>points_per_game</th>\n",
       "      <th>turnovers</th>\n",
       "      <th>turnovers_per_game</th>\n",
       "      <th>namekeys</th>\n",
       "      <th>Division</th>\n",
       "    </tr>\n",
       "  </thead>\n",
       "  <tbody>\n",
       "    <tr>\n",
       "      <th>0</th>\n",
       "      <td>A&amp;M-Corpus Christi</td>\n",
       "      <td>26172</td>\n",
       "      <td>2013</td>\n",
       "      <td>Hameed Ali</td>\n",
       "      <td>1289295</td>\n",
       "      <td>So.</td>\n",
       "      <td>2012-13</td>\n",
       "      <td>G</td>\n",
       "      <td>6-2</td>\n",
       "      <td>29</td>\n",
       "      <td>...</td>\n",
       "      <td>5</td>\n",
       "      <td>0.172</td>\n",
       "      <td>42</td>\n",
       "      <td>1.448</td>\n",
       "      <td>218</td>\n",
       "      <td>7.517</td>\n",
       "      <td>35</td>\n",
       "      <td>1.206897</td>\n",
       "      <td>hameedali</td>\n",
       "      <td>1</td>\n",
       "    </tr>\n",
       "    <tr>\n",
       "      <th>1</th>\n",
       "      <td>A&amp;M-Corpus Christi</td>\n",
       "      <td>26172</td>\n",
       "      <td>2013</td>\n",
       "      <td>Jelani Currie</td>\n",
       "      <td>1402236</td>\n",
       "      <td>Fr.</td>\n",
       "      <td>2012-13</td>\n",
       "      <td>G</td>\n",
       "      <td>6-4</td>\n",
       "      <td>18</td>\n",
       "      <td>...</td>\n",
       "      <td>2</td>\n",
       "      <td>0.111</td>\n",
       "      <td>0</td>\n",
       "      <td>0.000</td>\n",
       "      <td>32</td>\n",
       "      <td>1.778</td>\n",
       "      <td>14</td>\n",
       "      <td>0.777778</td>\n",
       "      <td>jelanicurrie</td>\n",
       "      <td>1</td>\n",
       "    </tr>\n",
       "    <tr>\n",
       "      <th>2</th>\n",
       "      <td>A&amp;M-Corpus Christi</td>\n",
       "      <td>26172</td>\n",
       "      <td>2013</td>\n",
       "      <td>Kennon Dvorak</td>\n",
       "      <td>1289297</td>\n",
       "      <td>Jr.</td>\n",
       "      <td>2012-13</td>\n",
       "      <td>G</td>\n",
       "      <td>6-2</td>\n",
       "      <td>13</td>\n",
       "      <td>...</td>\n",
       "      <td>0</td>\n",
       "      <td>0.000</td>\n",
       "      <td>2</td>\n",
       "      <td>0.154</td>\n",
       "      <td>14</td>\n",
       "      <td>1.077</td>\n",
       "      <td>6</td>\n",
       "      <td>0.461538</td>\n",
       "      <td>kennondvorak</td>\n",
       "      <td>1</td>\n",
       "    </tr>\n",
       "    <tr>\n",
       "      <th>3</th>\n",
       "      <td>A&amp;M-Corpus Christi</td>\n",
       "      <td>26172</td>\n",
       "      <td>2013</td>\n",
       "      <td>Dale Francis</td>\n",
       "      <td>1402237</td>\n",
       "      <td>Fr.</td>\n",
       "      <td>2012-13</td>\n",
       "      <td>F</td>\n",
       "      <td>6-9</td>\n",
       "      <td>29</td>\n",
       "      <td>...</td>\n",
       "      <td>7</td>\n",
       "      <td>0.241</td>\n",
       "      <td>8</td>\n",
       "      <td>0.276</td>\n",
       "      <td>58</td>\n",
       "      <td>2.000</td>\n",
       "      <td>21</td>\n",
       "      <td>0.724138</td>\n",
       "      <td>dalefrancis</td>\n",
       "      <td>1</td>\n",
       "    </tr>\n",
       "    <tr>\n",
       "      <th>4</th>\n",
       "      <td>A&amp;M-Corpus Christi</td>\n",
       "      <td>26172</td>\n",
       "      <td>2013</td>\n",
       "      <td>Johnathan Jordan</td>\n",
       "      <td>1289299</td>\n",
       "      <td>So.</td>\n",
       "      <td>2012-13</td>\n",
       "      <td>G</td>\n",
       "      <td>5-10</td>\n",
       "      <td>29</td>\n",
       "      <td>...</td>\n",
       "      <td>5</td>\n",
       "      <td>0.172</td>\n",
       "      <td>39</td>\n",
       "      <td>1.345</td>\n",
       "      <td>372</td>\n",
       "      <td>12.828</td>\n",
       "      <td>82</td>\n",
       "      <td>2.827586</td>\n",
       "      <td>johnathanjordan</td>\n",
       "      <td>1</td>\n",
       "    </tr>\n",
       "  </tbody>\n",
       "</table>\n",
       "<p>5 rows × 33 columns</p>\n",
       "</div>"
      ],
      "text/plain": [
       "          school_name  school_id  year              name  player_id  \\\n",
       "0  A&M-Corpus Christi      26172  2013        Hameed Ali    1289295   \n",
       "1  A&M-Corpus Christi      26172  2013     Jelani Currie    1402236   \n",
       "2  A&M-Corpus Christi      26172  2013     Kennon Dvorak    1289297   \n",
       "3  A&M-Corpus Christi      26172  2013      Dale Francis    1402237   \n",
       "4  A&M-Corpus Christi      26172  2013  Johnathan Jordan    1289299   \n",
       "\n",
       "  class_year   season position height  games    ...     blocks  \\\n",
       "0        So.  2012-13        G    6-2     29    ...          5   \n",
       "1        Fr.  2012-13        G    6-4     18    ...          2   \n",
       "2        Jr.  2012-13        G    6-2     13    ...          0   \n",
       "3        Fr.  2012-13        F    6-9     29    ...          7   \n",
       "4        So.  2012-13        G   5-10     29    ...          5   \n",
       "\n",
       "   blocks_per_game  steals  steals_per_game  points  points_per_game  \\\n",
       "0            0.172      42            1.448     218            7.517   \n",
       "1            0.111       0            0.000      32            1.778   \n",
       "2            0.000       2            0.154      14            1.077   \n",
       "3            0.241       8            0.276      58            2.000   \n",
       "4            0.172      39            1.345     372           12.828   \n",
       "\n",
       "   turnovers  turnovers_per_game         namekeys  Division  \n",
       "0         35            1.206897        hameedali         1  \n",
       "1         14            0.777778     jelanicurrie         1  \n",
       "2          6            0.461538     kennondvorak         1  \n",
       "3         21            0.724138      dalefrancis         1  \n",
       "4         82            2.827586  johnathanjordan         1  \n",
       "\n",
       "[5 rows x 33 columns]"
      ]
     },
     "execution_count": 6,
     "metadata": {},
     "output_type": "execute_result"
    }
   ],
   "source": [
    "divs_only = ncaa_division[['school_id','year','Division']]\n",
    "ncaa_divs = pd.merge(ncaa, divs_only, how = 'left', on = ['school_id','year'])\n",
    "\n",
    "ncaa_divs.head()"
   ]
  },
  {
   "cell_type": "code",
   "execution_count": 7,
   "metadata": {
    "collapsed": true
   },
   "outputs": [],
   "source": [
    "ncaa_draft = pd.merge(ncaa_divs, draft, how = 'left', on = 'namekeys')"
   ]
  },
  {
   "cell_type": "code",
   "execution_count": 8,
   "metadata": {
    "collapsed": false
   },
   "outputs": [],
   "source": [
    "ncaa_draft['dummy'].fillna(0, inplace = True)\n",
    "ncaa_draft['eFG'] = (ncaa_draft['field_goals'] + (0.5 * ncaa_draft['three_pointers']))/ ncaa_draft['field_goal_attempts']\n",
    "ncaa_draft['eFG'].fillna(0, inplace = True)\n",
    "ncaa_draft['turnovers_per_game'].fillna(0,inplace = True)\n",
    "ncaa_draft['AST/TO'] = ncaa_draft['assists']/ncaa_draft['turnovers']\n",
    "ncaa_draft['AST/TO'].replace([np.inf, -np.inf], np.nan, inplace = True)\n",
    "ncaa_draft['AST/TO'].fillna(0, inplace = True)\n",
    "ncaa_draft = pd.get_dummies(ncaa_draft, columns = ['Division'], prefix = 'is_Div')\n"
   ]
  },
  {
   "cell_type": "code",
   "execution_count": 9,
   "metadata": {
    "collapsed": false
   },
   "outputs": [],
   "source": [
    "ncaa_draft_dd = ncaa_draft.drop_duplicates(subset = ['namekeys'], keep = 'last')\n",
    "height = pd.DataFrame(list(ncaa_draft_dd.height.str.split('-')))\n",
    "height.columns = ['foot','inch']\n",
    "height[['foot','inch']] = height[['foot','inch']].replace('',0)\n",
    "height[['foot','inch']] = height[['foot','inch']].astype(int)\n",
    "height['foot'] = height['foot'] * [12]\n",
    "height['total_height'] = height['foot'] + height['inch']\n",
    "height.head()\n",
    "ncaa_draft_dd = ncaa_draft_dd.reset_index()\n",
    "ncaa_draft_dd = ncaa_draft_dd.drop('index', 1)"
   ]
  },
  {
   "cell_type": "code",
   "execution_count": 10,
   "metadata": {
    "collapsed": true
   },
   "outputs": [],
   "source": [
    "ncaa_draft_dd = ncaa_draft_dd.join(height['total_height'])"
   ]
  },
  {
   "cell_type": "code",
   "execution_count": 11,
   "metadata": {
    "collapsed": false
   },
   "outputs": [],
   "source": [
    "drafted = ncaa_draft_dd[ncaa_draft_dd.dummy == 1]\n",
    "undrafted = ncaa_draft_dd[ncaa_draft_dd.dummy == 0]\n",
    "draft_train = drafted.loc[np.random.choice(drafted.index, 137, replace=False)]\n",
    "undraft_train = undrafted.loc[np.random.choice(undrafted.index, (137*10), replace = False)]"
   ]
  },
  {
   "cell_type": "code",
   "execution_count": 12,
   "metadata": {
    "collapsed": false
   },
   "outputs": [
    {
     "data": {
      "text/html": [
       "<div>\n",
       "<table border=\"1\" class=\"dataframe\">\n",
       "  <thead>\n",
       "    <tr style=\"text-align: right;\">\n",
       "      <th></th>\n",
       "      <th>school_name</th>\n",
       "      <th>school_id</th>\n",
       "      <th>year</th>\n",
       "      <th>name</th>\n",
       "      <th>player_id</th>\n",
       "      <th>class_year</th>\n",
       "      <th>season</th>\n",
       "      <th>position</th>\n",
       "      <th>height</th>\n",
       "      <th>games</th>\n",
       "      <th>...</th>\n",
       "      <th>Rd</th>\n",
       "      <th>Pk</th>\n",
       "      <th>Tm</th>\n",
       "      <th>dummy</th>\n",
       "      <th>eFG</th>\n",
       "      <th>AST/TO</th>\n",
       "      <th>is_Div_1.0</th>\n",
       "      <th>is_Div_2.0</th>\n",
       "      <th>is_Div_3.0</th>\n",
       "      <th>total_height</th>\n",
       "    </tr>\n",
       "  </thead>\n",
       "  <tbody>\n",
       "    <tr>\n",
       "      <th>12513</th>\n",
       "      <td>Washington</td>\n",
       "      <td>756</td>\n",
       "      <td>2014</td>\n",
       "      <td>C.J. Wilcox</td>\n",
       "      <td>1070496</td>\n",
       "      <td>Sr.</td>\n",
       "      <td>2013-14</td>\n",
       "      <td>G</td>\n",
       "      <td>6-5</td>\n",
       "      <td>32</td>\n",
       "      <td>...</td>\n",
       "      <td>1</td>\n",
       "      <td>28</td>\n",
       "      <td>LAC</td>\n",
       "      <td>1</td>\n",
       "      <td>0.556322</td>\n",
       "      <td>1.500000</td>\n",
       "      <td>1</td>\n",
       "      <td>0</td>\n",
       "      <td>0</td>\n",
       "      <td>77</td>\n",
       "    </tr>\n",
       "    <tr>\n",
       "      <th>209</th>\n",
       "      <td>Arizona</td>\n",
       "      <td>29</td>\n",
       "      <td>2013</td>\n",
       "      <td>Solomon Hill</td>\n",
       "      <td>1064640</td>\n",
       "      <td>Sr.</td>\n",
       "      <td>2012-13</td>\n",
       "      <td>F</td>\n",
       "      <td>6-7</td>\n",
       "      <td>35</td>\n",
       "      <td>...</td>\n",
       "      <td>1</td>\n",
       "      <td>23</td>\n",
       "      <td>IND</td>\n",
       "      <td>1</td>\n",
       "      <td>0.540580</td>\n",
       "      <td>1.233766</td>\n",
       "      <td>1</td>\n",
       "      <td>0</td>\n",
       "      <td>0</td>\n",
       "      <td>79</td>\n",
       "    </tr>\n",
       "    <tr>\n",
       "      <th>20878</th>\n",
       "      <td>LSU</td>\n",
       "      <td>365</td>\n",
       "      <td>2015</td>\n",
       "      <td>Jordan Mickey</td>\n",
       "      <td>1519698</td>\n",
       "      <td>So.</td>\n",
       "      <td>2014-15</td>\n",
       "      <td>F</td>\n",
       "      <td>6-8</td>\n",
       "      <td>25</td>\n",
       "      <td>...</td>\n",
       "      <td>2</td>\n",
       "      <td>33</td>\n",
       "      <td>BOS</td>\n",
       "      <td>1</td>\n",
       "      <td>0.523585</td>\n",
       "      <td>0.404762</td>\n",
       "      <td>1</td>\n",
       "      <td>0</td>\n",
       "      <td>0</td>\n",
       "      <td>80</td>\n",
       "    </tr>\n",
       "    <tr>\n",
       "      <th>11679</th>\n",
       "      <td>Stanford</td>\n",
       "      <td>674</td>\n",
       "      <td>2014</td>\n",
       "      <td>Dwight Powell</td>\n",
       "      <td>1176135</td>\n",
       "      <td>Sr.</td>\n",
       "      <td>2013-14</td>\n",
       "      <td>F</td>\n",
       "      <td>6-10</td>\n",
       "      <td>36</td>\n",
       "      <td>...</td>\n",
       "      <td>2</td>\n",
       "      <td>45</td>\n",
       "      <td>CHH</td>\n",
       "      <td>1</td>\n",
       "      <td>0.474934</td>\n",
       "      <td>1.076923</td>\n",
       "      <td>1</td>\n",
       "      <td>0</td>\n",
       "      <td>0</td>\n",
       "      <td>82</td>\n",
       "    </tr>\n",
       "    <tr>\n",
       "      <th>9163</th>\n",
       "      <td>Louisville</td>\n",
       "      <td>367</td>\n",
       "      <td>2014</td>\n",
       "      <td>Russ Smith</td>\n",
       "      <td>1177525</td>\n",
       "      <td>Sr.</td>\n",
       "      <td>2013-14</td>\n",
       "      <td>G</td>\n",
       "      <td>6-0</td>\n",
       "      <td>37</td>\n",
       "      <td>...</td>\n",
       "      <td>2</td>\n",
       "      <td>47</td>\n",
       "      <td>PHI</td>\n",
       "      <td>1</td>\n",
       "      <td>0.540541</td>\n",
       "      <td>1.638095</td>\n",
       "      <td>1</td>\n",
       "      <td>0</td>\n",
       "      <td>0</td>\n",
       "      <td>72</td>\n",
       "    </tr>\n",
       "  </tbody>\n",
       "</table>\n",
       "<p>5 rows × 44 columns</p>\n",
       "</div>"
      ],
      "text/plain": [
       "      school_name  school_id  year           name  player_id class_year  \\\n",
       "12513  Washington        756  2014    C.J. Wilcox    1070496        Sr.   \n",
       "209       Arizona         29  2013   Solomon Hill    1064640        Sr.   \n",
       "20878         LSU        365  2015  Jordan Mickey    1519698        So.   \n",
       "11679    Stanford        674  2014  Dwight Powell    1176135        Sr.   \n",
       "9163   Louisville        367  2014     Russ Smith    1177525        Sr.   \n",
       "\n",
       "        season position height  games      ...       Rd  Pk   Tm  dummy  \\\n",
       "12513  2013-14        G    6-5     32      ...        1  28  LAC      1   \n",
       "209    2012-13        F    6-7     35      ...        1  23  IND      1   \n",
       "20878  2014-15        F    6-8     25      ...        2  33  BOS      1   \n",
       "11679  2013-14        F   6-10     36      ...        2  45  CHH      1   \n",
       "9163   2013-14        G    6-0     37      ...        2  47  PHI      1   \n",
       "\n",
       "            eFG    AST/TO  is_Div_1.0  is_Div_2.0  is_Div_3.0  total_height  \n",
       "12513  0.556322  1.500000           1           0           0            77  \n",
       "209    0.540580  1.233766           1           0           0            79  \n",
       "20878  0.523585  0.404762           1           0           0            80  \n",
       "11679  0.474934  1.076923           1           0           0            82  \n",
       "9163   0.540541  1.638095           1           0           0            72  \n",
       "\n",
       "[5 rows x 44 columns]"
      ]
     },
     "execution_count": 12,
     "metadata": {},
     "output_type": "execute_result"
    }
   ],
   "source": [
    "frames = [draft_train, undraft_train]\n",
    "ncaa_bal = pd.concat(frames) \n",
    "ncaa_bal.head()"
   ]
  },
  {
   "cell_type": "code",
   "execution_count": 13,
   "metadata": {
    "collapsed": false
   },
   "outputs": [],
   "source": [
    "X_cols = ['field_goals', 'field_goal_attempts', 'field_goal_percent',\n",
    "          'three_pointers', 'three_pointer_attempts', 'three_pointer_percent',\n",
    "          'free_throws', 'free_throw_attempts', 'free_throw_percent',\n",
    "          'rebounds', 'rebounds_per_game', 'assists', 'assists_per_game',\n",
    "          'blocks', 'blocks_per_game', 'steals', 'steals_per_game', 'points',\n",
    "          'points_per_game', 'turnovers', 'turnovers_per_game',\n",
    "          'eFG', 'AST/TO','total_height','is_Div_1.0','is_Div_2.0']\n",
    "\n",
    "\n",
    "features = ['field_goal_percent','three_pointer_percent', 'eFG','free_throw_percent','rebounds_per_game','total_height',\n",
    "            'assists_per_game','AST/TO', 'blocks_per_game','steals_per_game','points_per_game','turnovers_per_game',\n",
    "            'is_Div_1.0','is_Div_2.0']\n"
   ]
  },
  {
   "cell_type": "code",
   "execution_count": 32,
   "metadata": {
    "collapsed": false
   },
   "outputs": [],
   "source": [
    "X_scaled = StandardScaler().fit_transform(ncaa_bal[features])\n",
    "X = ncaa_bal[features]\n",
    "y = ncaa_bal['dummy']\n",
    "\n",
    "X_t, X_tt, y_t, y_tt = cross_validation.train_test_split(X,y, test_size = .2)\n",
    "X_ts, X_tts, y_ts, y_tts = cross_validation.train_test_split(X_scaled, y, test_size = .2)\n",
    "\n",
    "X_all_scaled = StandardScaler().fit_transform(ncaa_draft_dd[features])\n",
    "X_all = ncaa_draft_dd[features]\n",
    "y_all = ncaa_draft_dd['dummy']\n",
    "\n",
    "X_train, X_test, y_train, y_test = cross_validation.train_test_split(X_all, y_all, test_size = .2)\n",
    "X_train_s, X_test_s, y_train_s, y_test_s = cross_validation.train_test_split(X_all_scaled, y_all, test_size = .2)\n",
    "\n"
   ]
  },
  {
   "cell_type": "code",
   "execution_count": 33,
   "metadata": {
    "collapsed": false
   },
   "outputs": [
    {
     "name": "stdout",
     "output_type": "stream",
     "text": [
      "RandomForestClassifier: 0.943571833269\n",
      "RandomForestClassifier CM:\n",
      "[[261   9]\n",
      " [ 10  22]]\n",
      "             precision    recall  f1-score   support\n",
      "\n",
      "        0.0       0.96      0.97      0.96       270\n",
      "        1.0       0.71      0.69      0.70        32\n",
      "\n",
      "avg / total       0.94      0.94      0.94       302\n",
      "\n",
      "GradientBoostingClassifier: 0.946894786252\n",
      "GradientBoostingClassifier CM:\n",
      "[[259  11]\n",
      " [ 11  21]]\n",
      "             precision    recall  f1-score   support\n",
      "\n",
      "        0.0       0.96      0.96      0.96       270\n",
      "        1.0       0.66      0.66      0.66        32\n",
      "\n",
      "avg / total       0.93      0.93      0.93       302\n",
      "\n",
      "AdaBoostClassifier: 0.951038655434\n",
      "AdaBoostClassifier CM:\n",
      "[[265   5]\n",
      " [ 11  21]]\n",
      "             precision    recall  f1-score   support\n",
      "\n",
      "        0.0       0.96      0.98      0.97       270\n",
      "        1.0       0.81      0.66      0.72        32\n",
      "\n",
      "avg / total       0.94      0.95      0.94       302\n",
      "\n",
      "RandomForestClassifier: 0.944380157959\n",
      "RandomForestClassifier (scaled) CM:\n",
      "[[276   4]\n",
      " [  5  17]]\n",
      "             precision    recall  f1-score   support\n",
      "\n",
      "        0.0       0.98      0.99      0.98       280\n",
      "        1.0       0.81      0.77      0.79        22\n",
      "\n",
      "avg / total       0.97      0.97      0.97       302\n",
      "\n",
      "GradientBoostingClassifier: 0.933606843107\n",
      "GradientBoostingClassifier (scaled) CM:\n",
      "[[271   9]\n",
      " [  6  16]]\n",
      "             precision    recall  f1-score   support\n",
      "\n",
      "        0.0       0.98      0.97      0.97       280\n",
      "        1.0       0.64      0.73      0.68        22\n",
      "\n",
      "avg / total       0.95      0.95      0.95       302\n",
      "\n",
      "AdaBoostClassifier: 0.946873923545\n",
      "AdaBoostClassifier (scaled) CM:\n",
      "[[274   6]\n",
      " [  6  16]]\n",
      "             precision    recall  f1-score   support\n",
      "\n",
      "        0.0       0.98      0.98      0.98       280\n",
      "        1.0       0.73      0.73      0.73        22\n",
      "\n",
      "avg / total       0.96      0.96      0.96       302\n",
      "\n"
     ]
    }
   ],
   "source": [
    "forest = RandomForestClassifier(n_estimators=250, max_features = 'auto',\n",
    "                                random_state=0, max_depth=None,\n",
    "                                oob_score= True,\n",
    "                                class_weight = {0:1, 1:10})\n",
    "forest.fit(X_t, y_t)\n",
    "scores = cross_validation.cross_val_score(forest, X_t, y_t)\n",
    "print \"RandomForestClassifier:\", scores.mean()\n",
    "print \"RandomForestClassifier CM:\"\n",
    "print metrics.confusion_matrix(y_tt, forest.predict(X_tt))\n",
    "print metrics.classification_report(y_tt, forest.predict(X_tt))\n",
    "gbc = GradientBoostingClassifier(learning_rate = 0.05, n_estimators = 250,\n",
    "                                max_depth = 100, max_features = 'auto',\n",
    "                                random_state = 0)\n",
    "gbc.fit(X_t,y_t)\n",
    "scores = cross_validation.cross_val_score(gbc, X_t, y_t)\n",
    "print \"GradientBoostingClassifier:\", scores.mean()\n",
    "print \"GradientBoostingClassifier CM:\"\n",
    "print metrics.confusion_matrix(y_tt, gbc.predict(X_tt))\n",
    "print metrics.classification_report(y_tt, gbc.predict(X_tt))\n",
    "\n",
    "ada = AdaBoostClassifier(n_estimators = 250, learning_rate = 0.05, random_state = 0)\n",
    "ada.fit(X_t,y_t)\n",
    "scores = cross_validation.cross_val_score(ada, X_t, y_t)\n",
    "print \"AdaBoostClassifier:\", scores.mean()\n",
    "print \"AdaBoostClassifier CM:\"\n",
    "print metrics.confusion_matrix(y_tt, ada.predict(X_tt))\n",
    "print metrics.classification_report(y_tt, ada.predict(X_tt))\n",
    "\n",
    "forests = RandomForestClassifier(n_estimators=250, max_features = 'auto',\n",
    "                                random_state=0, max_depth=None,\n",
    "                                oob_score= True,\n",
    "                                class_weight = {0:1, 1:10})\n",
    "forests.fit(X_ts, y_ts)\n",
    "scores = cross_validation.cross_val_score(forests, X_ts, y_ts)\n",
    "print \"RandomForestClassifier:\", scores.mean()\n",
    "print \"RandomForestClassifier (scaled) CM:\"\n",
    "print metrics.confusion_matrix(y_tts, forests.predict(X_tts))\n",
    "print metrics.classification_report(y_tts, forests.predict(X_tts))\n",
    "\n",
    "gbcs = GradientBoostingClassifier(learning_rate = 0.05, n_estimators = 250,\n",
    "                                max_depth = 100, max_features = 'auto',\n",
    "                                random_state = 0)\n",
    "gbcs.fit(X_ts,y_ts)\n",
    "scores = cross_validation.cross_val_score(gbcs, X_ts, y_ts)\n",
    "print \"GradientBoostingClassifier:\", scores.mean()\n",
    "print \"GradientBoostingClassifier (scaled) CM:\"\n",
    "print metrics.confusion_matrix(y_tts, gbcs.predict(X_tts))\n",
    "print metrics.classification_report(y_tts, gbcs.predict(X_tts))\n",
    "\n",
    "adas = AdaBoostClassifier(n_estimators = 250, learning_rate = 0.05, random_state = 0)\n",
    "adas.fit(X_ts,y_ts)\n",
    "scores = cross_validation.cross_val_score(adas, X_ts, y_ts)\n",
    "print \"AdaBoostClassifier:\", scores.mean()\n",
    "print \"AdaBoostClassifier (scaled) CM:\"\n",
    "print metrics.confusion_matrix(y_tts, adas.predict(X_tts))\n",
    "print metrics.classification_report(y_tts, adas.predict(X_tts))"
   ]
  },
  {
   "cell_type": "code",
   "execution_count": 35,
   "metadata": {
    "collapsed": false
   },
   "outputs": [
    {
     "name": "stdout",
     "output_type": "stream",
     "text": [
      "RandomForestClassifier CM:\n",
      "[[29556   628]\n",
      " [   13   124]]\n",
      "             precision    recall  f1-score   support\n",
      "\n",
      "        0.0       1.00      0.98      0.99     30184\n",
      "        1.0       0.16      0.91      0.28       137\n",
      "\n",
      "avg / total       1.00      0.98      0.99     30321\n",
      "\n",
      "GradientBoostingClassifier CM:\n",
      "[[29501   683]\n",
      " [   15   122]]\n",
      "             precision    recall  f1-score   support\n",
      "\n",
      "        0.0       1.00      0.98      0.99     30184\n",
      "        1.0       0.15      0.89      0.26       137\n",
      "\n",
      "avg / total       1.00      0.98      0.99     30321\n",
      "\n",
      "AdaBoostClassifier CM:\n",
      "[[29734   450]\n",
      " [   36   101]]\n",
      "             precision    recall  f1-score   support\n",
      "\n",
      "        0.0       1.00      0.99      0.99     30184\n",
      "        1.0       0.18      0.74      0.29       137\n",
      "\n",
      "avg / total       1.00      0.98      0.99     30321\n",
      "\n",
      "RandomForestClassifier (scaled) CM:\n",
      "[[29236   948]\n",
      " [   16   121]]\n",
      "             precision    recall  f1-score   support\n",
      "\n",
      "        0.0       1.00      0.97      0.98     30184\n",
      "        1.0       0.11      0.88      0.20       137\n",
      "\n",
      "avg / total       1.00      0.97      0.98     30321\n",
      "\n",
      "GradientBoostingClassifier (scaled) CM:\n",
      "[[29054  1130]\n",
      " [   25   112]]\n",
      "             precision    recall  f1-score   support\n",
      "\n",
      "        0.0       1.00      0.96      0.98     30184\n",
      "        1.0       0.09      0.82      0.16       137\n",
      "\n",
      "avg / total       1.00      0.96      0.98     30321\n",
      "\n",
      "AdaBoostClassifier (scaled) CM:\n",
      "[[29284   900]\n",
      " [   25   112]]\n",
      "             precision    recall  f1-score   support\n",
      "\n",
      "        0.0       1.00      0.97      0.98     30184\n",
      "        1.0       0.11      0.82      0.19       137\n",
      "\n",
      "avg / total       1.00      0.97      0.98     30321\n",
      "\n"
     ]
    }
   ],
   "source": [
    "print \"RandomForestClassifier CM:\"\n",
    "print metrics.confusion_matrix(y_all, forest.predict(X_all))\n",
    "print metrics.classification_report(y_all, forest.predict(X_all))\n",
    "\n",
    "print \"GradientBoostingClassifier CM:\"\n",
    "print metrics.confusion_matrix(y_all, gbc.predict(X_all))\n",
    "print metrics.classification_report(y_all, gbc.predict(X_all))\n",
    "\n",
    "print \"AdaBoostClassifier CM:\"\n",
    "print metrics.confusion_matrix(y_all, ada.predict(X_all))\n",
    "print metrics.classification_report(y_all, ada.predict(X_all))\n",
    "\n",
    "\n",
    "print \"RandomForestClassifier (scaled) CM:\"\n",
    "print metrics.confusion_matrix(y_all, forests.predict(X_all_scaled))\n",
    "print metrics.classification_report(y_all, forests.predict(X_all_scaled))\n",
    "\n",
    "print \"GradientBoostingClassifier (scaled) CM:\"\n",
    "print metrics.confusion_matrix(y_all, gbcs.predict(X_all_scaled))\n",
    "print metrics.classification_report(y_all, gbcs.predict(X_all_scaled))\n",
    "\n",
    "print \"AdaBoostClassifier (scaled) CM:\"\n",
    "print metrics.confusion_matrix(y_all, adas.predict(X_all_scaled))\n",
    "print metrics.classification_report(y_all, adas.predict(X_all_scaled))"
   ]
  },
  {
   "cell_type": "code",
   "execution_count": 86,
   "metadata": {
    "collapsed": false
   },
   "outputs": [
    {
     "name": "stdout",
     "output_type": "stream",
     "text": [
      "    importances               features\n",
      "10     0.215173        points_per_game\n",
      "12     0.209589             is_Div_1.0\n",
      "4      0.096748      rebounds_per_game\n",
      "11     0.085184     turnovers_per_game\n",
      "5      0.062407           total_height\n",
      "9      0.056356        steals_per_game\n",
      "0      0.052482     field_goal_percent\n",
      "8      0.051450        blocks_per_game\n",
      "6      0.050390       assists_per_game\n",
      "2      0.033500                    eFG\n",
      "13     0.028264             is_Div_2.0\n",
      "3      0.026868     free_throw_percent\n",
      "7      0.019000                 AST/TO\n",
      "1      0.012589  three_pointer_percent\n"
     ]
    }
   ],
   "source": [
    "importances = forest.fit(X_t, y_t).feature_importances_\n",
    "std = np.std([tree.feature_importances_ for tree in forest.estimators_],\n",
    "             axis=0)\n",
    "df = pd.DataFrame(features, importances)\n",
    "df = df.reset_index()\n",
    "df.columns = ['importances', 'features']\n",
    "print df.sort_values(by = 'importances', ascending = False)"
   ]
  },
  {
   "cell_type": "code",
   "execution_count": 87,
   "metadata": {
    "collapsed": false
   },
   "outputs": [
    {
     "name": "stdout",
     "output_type": "stream",
     "text": [
      "    importances               features\n",
      "10     0.213378        points_per_game\n",
      "4      0.118450      rebounds_per_game\n",
      "12     0.112257             is_Div_1.0\n",
      "8      0.085346        blocks_per_game\n",
      "6      0.081463       assists_per_game\n",
      "11     0.064486     turnovers_per_game\n",
      "9      0.061271        steals_per_game\n",
      "5      0.058097           total_height\n",
      "2      0.052916                    eFG\n",
      "3      0.039073     free_throw_percent\n",
      "0      0.036584     field_goal_percent\n",
      "7      0.034468                 AST/TO\n",
      "1      0.028112  three_pointer_percent\n",
      "13     0.014099             is_Div_2.0\n"
     ]
    }
   ],
   "source": [
    "importances = gbc.fit(X_t, y_t).feature_importances_\n",
    "std = np.std([tree.feature_importances_ for tree in forest.estimators_],\n",
    "             axis=0)\n",
    "df = pd.DataFrame(features, importances)\n",
    "df = df.reset_index()\n",
    "df.columns = ['importances', 'features']\n",
    "print df.sort_values(by = 'importances', ascending = False)"
   ]
  },
  {
   "cell_type": "code",
   "execution_count": 88,
   "metadata": {
    "collapsed": false
   },
   "outputs": [
    {
     "name": "stdout",
     "output_type": "stream",
     "text": [
      "    importances               features\n",
      "10        0.236        points_per_game\n",
      "4         0.184      rebounds_per_game\n",
      "5         0.132           total_height\n",
      "12        0.132             is_Div_1.0\n",
      "2         0.076                    eFG\n",
      "6         0.072       assists_per_game\n",
      "0         0.044     field_goal_percent\n",
      "8         0.044        blocks_per_game\n",
      "9         0.036        steals_per_game\n",
      "13        0.032             is_Div_2.0\n",
      "3         0.012     free_throw_percent\n",
      "1         0.000  three_pointer_percent\n",
      "7         0.000                 AST/TO\n",
      "11        0.000     turnovers_per_game\n"
     ]
    }
   ],
   "source": [
    "importances = ada.fit(X_t, y_t).feature_importances_\n",
    "std = np.std([tree.feature_importances_ for tree in forest.estimators_],\n",
    "             axis=0)\n",
    "\n",
    "df = pd.DataFrame(features, importances)\n",
    "df = df.reset_index()\n",
    "df.columns = ['importances', 'features']\n",
    "print df.sort_values(by = 'importances', ascending = False)"
   ]
  },
  {
   "cell_type": "code",
   "execution_count": 89,
   "metadata": {
    "collapsed": false
   },
   "outputs": [
    {
     "name": "stdout",
     "output_type": "stream",
     "text": [
      "RandomForestClassifier CM:\n",
      "[[29398   786]\n",
      " [    8   129]]\n",
      "             precision    recall  f1-score   support\n",
      "\n",
      "        0.0       1.00      0.97      0.99     30184\n",
      "        1.0       0.14      0.94      0.25       137\n",
      "\n",
      "avg / total       1.00      0.97      0.98     30321\n",
      "\n",
      "GradientBoostingClassifier CM:\n",
      "[[29750   434]\n",
      " [   10   127]]\n",
      "             precision    recall  f1-score   support\n",
      "\n",
      "        0.0       1.00      0.99      0.99     30184\n",
      "        1.0       0.23      0.93      0.36       137\n",
      "\n",
      "avg / total       1.00      0.99      0.99     30321\n",
      "\n",
      "AdaBoostClassifier CM:\n",
      "[[29776   408]\n",
      " [   47    90]]\n",
      "             precision    recall  f1-score   support\n",
      "\n",
      "        0.0       1.00      0.99      0.99     30184\n",
      "        1.0       0.18      0.66      0.28       137\n",
      "\n",
      "avg / total       0.99      0.98      0.99     30321\n",
      "\n"
     ]
    }
   ],
   "source": [
    "print \"RandomForestClassifier CM:\"\n",
    "print metrics.confusion_matrix(y_all, forest.predict(X_all))\n",
    "print metrics.classification_report(y_all, forest.predict(X_all))\n",
    "\n",
    "print \"GradientBoostingClassifier CM:\"\n",
    "print metrics.confusion_matrix(y_all, gbc.predict(X_all))\n",
    "print metrics.classification_report(y_all, gbc.predict(X_all))\n",
    "\n",
    "print \"AdaBoostClassifier CM:\"\n",
    "print metrics.confusion_matrix(y_all, ada.predict(X_all))\n",
    "print metrics.classification_report(y_all, ada.predict(X_all))"
   ]
  },
  {
   "cell_type": "code",
   "execution_count": 90,
   "metadata": {
    "collapsed": false
   },
   "outputs": [
    {
     "data": {
      "text/plain": [
       "<matplotlib.legend.Legend at 0x10d56fc50>"
      ]
     },
     "execution_count": 90,
     "metadata": {},
     "output_type": "execute_result"
    },
    {
     "data": {
      "image/png": "[encoded data removed]",
      "text/plain": [
       "<matplotlib.figure.Figure at 0x10d56f550>"
      ]
     },
     "metadata": {},
     "output_type": "display_data"
    }
   ],
   "source": [
    "fpr, tpr, thresholds = metrics.roc_curve(y_all, forest.predict_proba(X_all)[:,1])\n",
    "forest_plt = plt.plot(fpr, tpr, fpr, fpr, label = 'RF') # Second x,y pairs here are just to plot a line with slop 1.\n",
    "\n",
    "fpr, tpr, thresholds = metrics.roc_curve(y_all, gbc.predict_proba(X_all)[:,1])\n",
    "gbc_plt = plt.plot(fpr, tpr, label = 'GB') # Second x,y pairs here are just to plot a line with slop 1.\n",
    "\n",
    "fpr, tpr, thresholds = metrics.roc_curve(y_all, ada.predict_proba(X_all)[:,1])\n",
    "ada_plt = plt.plot(fpr, tpr, label = 'Ada') # Second x,y pairs here are just to plot a line with slop 1.\n",
    "\n",
    "plt.legend(loc='lower right')\n"
   ]
  },
  {
   "cell_type": "code",
   "execution_count": 94,
   "metadata": {
    "collapsed": false
   },
   "outputs": [
    {
     "name": "stdout",
     "output_type": "stream",
     "text": [
      "<bound method LogisticRegression.score of LogisticRegression(C=1.0, class_weight=None, dual=False, fit_intercept=True,\n",
      "          intercept_scaling=1, max_iter=100, multi_class='ovr',\n",
      "          penalty='l2', random_state=None, solver='liblinear', tol=0.0001,\n",
      "          verbose=0)>\n"
     ]
    }
   ],
   "source": [
    "logm = linear_model.LogisticRegression()\n",
    "logm.fit(X_t, y_t)"
   ]
  },
  {
   "cell_type": "code",
   "execution_count": 99,
   "metadata": {
    "collapsed": false
   },
   "outputs": [
    {
     "name": "stdout",
     "output_type": "stream",
     "text": [
      "[[-0.47325196  0.17408684 -0.40304541 -0.8466602   0.29016289 -0.03092199\n",
      "   1.01832836 -1.0918553   0.93860004 -0.06755667  0.27163405 -1.5231906\n",
      "   2.72047025 -1.10477584]]\n",
      "0.949568679496\n"
     ]
    }
   ],
   "source": [
    "print logm.coef_\n",
    "print logm.score(X,y)"
   ]
  },
  {
   "cell_type": "code",
   "execution_count": 100,
   "metadata": {
    "collapsed": false
   },
   "outputs": [
    {
     "data": {
      "text/plain": [
       "<matplotlib.legend.Legend at 0x10d3feb50>"
      ]
     },
     "execution_count": 100,
     "metadata": {},
     "output_type": "execute_result"
    },
    {
     "data": {
      "image/png": "[encoded data removed]",
      "text/plain": [
       "<matplotlib.figure.Figure at 0x10d421910>"
      ]
     },
     "metadata": {},
     "output_type": "display_data"
    }
   ],
   "source": [
    "fpr, tpr, thresholds = metrics.roc_curve(y_all, forest.predict_proba(X_all)[:,1])\n",
    "forest_plt = plt.plot(fpr, tpr, fpr, fpr, label = 'RF') # Second x,y pairs here are just to plot a line with slop 1.\n",
    "\n",
    "fpr, tpr, thresholds = metrics.roc_curve(y_all, gbc.predict_proba(X_all)[:,1])\n",
    "gbc_plt = plt.plot(fpr, tpr, label = 'GB') # Second x,y pairs here are just to plot a line with slop 1.\n",
    "\n",
    "fpr, tpr, thresholds = metrics.roc_curve(y_all, ada.predict_proba(X_all)[:,1])\n",
    "ada_plt = plt.plot(fpr, tpr, label = 'Ada') # Second x,y pairs here are just to plot a line with slop 1.\n",
    "\n",
    "fpr, tpr, thresholds = metrics.roc_curve(y_all, logm.predict_proba(X_all)[:,1])\n",
    "logm_plt = plt.plot(fpr, tpr, label = 'LogM') # Second x,y pairs here are just to plot a line with slop 1.\n",
    "\n",
    "\n",
    "plt.legend(loc='lower right')"
   ]
  },
  {
   "cell_type": "code",
   "execution_count": null,
   "metadata": {
    "collapsed": true
   },
   "outputs": [],
   "source": []
  }
 ],
 "metadata": {
  "kernelspec": {
   "display_name": "Python 2",
   "language": "python",
   "name": "python2"
  },
  "language_info": {
   "codemirror_mode": {
    "name": "ipython",
    "version": 2
   },
   "file_extension": ".py",
   "mimetype": "text/x-python",
   "name": "python",
   "nbconvert_exporter": "python",
   "pygments_lexer": "ipython2",
   "version": "2.7.10"
  }
 },
 "nbformat": 4,
 "nbformat_minor": 0
}
