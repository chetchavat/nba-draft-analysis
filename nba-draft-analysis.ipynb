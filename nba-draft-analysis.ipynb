{
 "cells": [
  {
   "cell_type": "code",
   "execution_count": 128,
   "metadata": {
    "collapsed": false
   },
   "outputs": [],
   "source": [
    "%matplotlib inline\n",
    "import pandas as pd\n",
    "import numpy as np\n",
    "import matplotlib.pyplot as plt\n",
    "import seaborn as sns\n",
    "\n",
    "from sklearn.cluster import KMeans\n",
    "from sklearn.metrics import silhouette_score\n",
    "from sklearn.preprocessing import scale\n",
    "from sklearn import cross_validation\n",
    "from sklearn.ensemble import RandomForestClassifier\n"
   ]
  },
  {
   "cell_type": "code",
   "execution_count": 129,
   "metadata": {
    "collapsed": true
   },
   "outputs": [],
   "source": [
    "data_dir = 'data/'"
   ]
  },
  {
   "cell_type": "code",
   "execution_count": 130,
   "metadata": {
    "collapsed": false
   },
   "outputs": [],
   "source": [
    "draft = pd.read_csv(data_dir + 'draft_clean.csv', sep = '\\t', index_col = 0)\n",
    "ncaa = pd.read_csv(data_dir + 'ncaa_players_clean.csv', sep = '\\t', index_col = 0)"
   ]
  },
  {
   "cell_type": "code",
   "execution_count": 131,
   "metadata": {
    "collapsed": false
   },
   "outputs": [
    {
     "name": "stdout",
     "output_type": "stream",
     "text": [
      "               namekeys                 Player  Year  Rd  Pk   Tm  dummy\n",
      "0          masonplumlee          Mason Plumlee  2013   1  22  BRK      1\n",
      "1            rudygobert            Rudy Gobert  2013   1  27  DEN      1\n",
      "2           stevenadams           Steven Adams  2013   1  12  OKC      1\n",
      "3  giannisantetokounmpo  Giannis Antetokounmpo  2013   1  15  MIL      1\n",
      "4            codyzeller            Cody Zeller  2013   1   4  CHA      1\n",
      "              Year          Rd          Pk  dummy\n",
      "count   180.000000  180.000000  180.000000    180\n",
      "mean   2014.000000    1.500000   30.500000      1\n",
      "std       0.818774    0.501395   17.366409      0\n",
      "min    2013.000000    1.000000    1.000000      1\n",
      "25%    2013.000000    1.000000   15.750000      1\n",
      "50%    2014.000000    1.500000   30.500000      1\n",
      "75%    2015.000000    2.000000   45.250000      1\n",
      "max    2015.000000    2.000000   60.000000      1\n"
     ]
    }
   ],
   "source": [
    "draft['dummy'] = 1\n",
    "print draft.head()\n",
    "print draft.describe()\n"
   ]
  },
  {
   "cell_type": "code",
   "execution_count": 132,
   "metadata": {
    "collapsed": true
   },
   "outputs": [],
   "source": [
    "ncaa_draft = pd.merge(ncaa, draft, how = 'left', on = 'namekeys')"
   ]
  },
  {
   "cell_type": "code",
   "execution_count": 133,
   "metadata": {
    "collapsed": false
   },
   "outputs": [],
   "source": [
    "ncaa_draft['dummy'].fillna(0, inplace = True)\n",
    "ncaa_draft['eFG'] = (ncaa_draft['field_goals'] + (0.5 * ncaa_draft['three_pointers']))/ ncaa_draft['field_goal_attempts']\n",
    "ncaa_draft['eFG'].fillna(0, inplace = True)\n",
    "ncaa_draft['turnovers_per_game'].fillna(0,inplace = True)\n",
    "ncaa_draft['AST/TO'] = ncaa_draft['assists']/ncaa_draft['turnovers']\n",
    "ncaa_draft['AST/TO'].replace([np.inf, -np.inf], np.nan, inplace = True)\n",
    "ncaa_draft['AST/TO'].fillna(0, inplace = True)\n"
   ]
  },
  {
   "cell_type": "code",
   "execution_count": null,
   "metadata": {
    "collapsed": false
   },
   "outputs": [],
   "source": []
  },
  {
   "cell_type": "code",
   "execution_count": 154,
   "metadata": {
    "collapsed": false
   },
   "outputs": [],
   "source": [
    "ncaa_draft_dd = ncaa_draft.drop_duplicates(subset = ['namekeys'], keep = 'last')\n",
    "height = pd.DataFrame(list(ncaa_draft_dd.height.str.split('-')))\n",
    "height.columns = ['foot','inch']\n",
    "height[['foot','inch']] = height[['foot','inch']].replace('',0)\n",
    "height[['foot','inch']] = height[['foot','inch']].astype(int)\n",
    "height['foot'] = height['foot'] * [12]\n",
    "height['total_height'] = height['foot'] + height['inch']\n",
    "height.head()\n",
    "ncaa_draft_dd = ncaa_draft_dd.reset_index()\n",
    "ncaa_draft_dd = ncaa_draft_dd.drop('index', 1)"
   ]
  },
  {
   "cell_type": "code",
   "execution_count": 160,
   "metadata": {
    "collapsed": true
   },
   "outputs": [],
   "source": [
    "ncaa_draft_dd = ncaa_draft_dd.join(height['total_height'])"
   ]
  },
  {
   "cell_type": "code",
   "execution_count": 165,
   "metadata": {
    "collapsed": false
   },
   "outputs": [],
   "source": [
    "drafted = ncaa_draft_dd[ncaa_draft_dd.dummy == 1]\n",
    "undrafted = ncaa_draft_dd[ncaa_draft_dd.dummy == 0]\n",
    "draft_train = drafted.loc[np.random.choice(drafted.index, 67, replace=False)]\n",
    "undraft_train = undrafted.loc[np.random.choice(undrafted.index, 67, replace = False)]"
   ]
  },
  {
   "cell_type": "code",
   "execution_count": 166,
   "metadata": {
    "collapsed": false
   },
   "outputs": [],
   "source": [
    "frames = [draft_train, undraft_train]\n",
    "ncaa_bal = pd.concat(frames) "
   ]
  },
  {
   "cell_type": "code",
   "execution_count": 237,
   "metadata": {
    "collapsed": false
   },
   "outputs": [],
   "source": [
    "X_cols = ['field_goals', 'field_goal_attempts', 'field_goal_percent',\n",
    "          'three_pointers', 'three_pointer_attempts', 'three_pointer_percent',\n",
    "          'free_throws', 'free_throw_attempts', 'free_throw_percent',\n",
    "          'rebounds', 'rebounds_per_game', 'assists', 'assists_per_game',\n",
    "          'blocks', 'blocks_per_game', 'steals', 'steals_per_game', 'points',\n",
    "          'points_per_game', 'turnovers', 'turnovers_per_game',\n",
    "          'eFG', 'AST/TO','total_height']\n",
    "\n",
    "\n",
    "features = ['field_goal_percent','three_pointer_percent', 'eFG','free_throw_percent','rebounds_per_game','total_height',\n",
    "            'assists_per_game','AST/TO', 'blocks_per_game','steals_per_game','points_per_game','turnovers_per_game']\n"
   ]
  },
  {
   "cell_type": "code",
   "execution_count": 238,
   "metadata": {
    "collapsed": false
   },
   "outputs": [],
   "source": [
    "X = ncaa_bal[features]\n",
    "y = ncaa_bal['dummy']\n",
    "X_all = ncaa_draft_dd[features]\n",
    "y_all = ncaa_draft_dd['dummy']\n",
    "X_train, X_test, y_train, y_test = cross_validation.train_test_split(X_all, y_all, test_size = .2)"
   ]
  },
  {
   "cell_type": "code",
   "execution_count": 294,
   "metadata": {
    "collapsed": false
   },
   "outputs": [
    {
     "name": "stdout",
     "output_type": "stream",
     "text": [
      "RandomForestClassifier: 0.835638998682\n",
      "GradientBoostingClassifier: 0.842885375494\n",
      "AdaBoostClassifier: 0.872859025033\n"
     ]
    }
   ],
   "source": [
    "from sklearn.ensemble import RandomForestClassifier, GradientBoostingClassifier, AdaBoostClassifier\n",
    "forest = RandomForestClassifier(n_estimators=250, max_features = 'auto',\n",
    "                                random_state=0, max_depth=None,\n",
    "                                oob_score= True,\n",
    "                                class_weight = {0:1, 1:5})\n",
    "forest.fit(X, y)\n",
    "scores = cross_validation.cross_val_score(forest, X, y)\n",
    "print \"RandomForestClassifier:\", scores.mean()\n",
    "\n",
    "gbc = GradientBoostingClassifier(learning_rate = 0.05, n_estimators = 250,\n",
    "                                max_depth = 100, max_features = 'auto',\n",
    "                                random_state = 0)\n",
    "gbc.fit(X,y)\n",
    "scores = cross_validation.cross_val_score(gbc, X, y)\n",
    "print \"GradientBoostingClassifier:\", scores.mean()\n",
    "\n",
    "ada = AdaBoostClassifier(n_estimators = 250,learning_rate = 0.05,random_state = 0)\n",
    "ada.fit(X,y)\n",
    "scores = cross_validation.cross_val_score(ada, X, y)\n",
    "print \"AdaBoostClassifier:\", scores.mean()\n",
    "\n"
   ]
  },
  {
   "cell_type": "code",
   "execution_count": 295,
   "metadata": {
    "collapsed": false
   },
   "outputs": [],
   "source": [
    "importances = ada.fit(X, y).feature_importances_\n",
    "std = np.std([tree.feature_importances_ for tree in forest.estimators_],\n",
    "             axis=0)"
   ]
  },
  {
   "cell_type": "code",
   "execution_count": 296,
   "metadata": {
    "collapsed": false
   },
   "outputs": [
    {
     "name": "stdout",
     "output_type": "stream",
     "text": [
      "    importances               features\n",
      "5         0.288           total_height\n",
      "2         0.192                    eFG\n",
      "10        0.180        points_per_game\n",
      "4         0.076      rebounds_per_game\n",
      "9         0.076        steals_per_game\n",
      "7         0.072                 AST/TO\n",
      "6         0.056       assists_per_game\n",
      "8         0.032        blocks_per_game\n",
      "0         0.028     field_goal_percent\n",
      "1         0.000  three_pointer_percent\n",
      "3         0.000     free_throw_percent\n",
      "11        0.000     turnovers_per_game\n"
     ]
    }
   ],
   "source": [
    "df = pd.DataFrame(features, importances)\n",
    "df = df.reset_index()\n",
    "df.columns = ['importances', 'features']\n",
    "print df.sort_values(by = 'importances', ascending = False)"
   ]
  },
  {
   "cell_type": "code",
   "execution_count": 297,
   "metadata": {
    "collapsed": false
   },
   "outputs": [
    {
     "name": "stdout",
     "output_type": "stream",
     "text": [
      "RandomForestClassifier CM:\n",
      "[[4882 1155]\n",
      " [   2   26]]\n",
      "             precision    recall  f1-score   support\n",
      "\n",
      "        0.0       1.00      0.81      0.89      6037\n",
      "        1.0       0.02      0.93      0.04        28\n",
      "\n",
      "avg / total       1.00      0.81      0.89      6065\n",
      "\n",
      "GradientBoostingClassifier CM:\n",
      "[[4894 1143]\n",
      " [   2   26]]\n",
      "             precision    recall  f1-score   support\n",
      "\n",
      "        0.0       1.00      0.81      0.90      6037\n",
      "        1.0       0.02      0.93      0.04        28\n",
      "\n",
      "avg / total       1.00      0.81      0.89      6065\n",
      "\n",
      "AdaBoostClassifier CM:\n",
      "[[4782 1255]\n",
      " [   2   26]]\n",
      "             precision    recall  f1-score   support\n",
      "\n",
      "        0.0       1.00      0.79      0.88      6037\n",
      "        1.0       0.02      0.93      0.04        28\n",
      "\n",
      "avg / total       1.00      0.79      0.88      6065\n",
      "\n"
     ]
    }
   ],
   "source": [
    "import sklearn.metrics as metrics\n",
    "from __future__ import division\n",
    "\n",
    "\n",
    "print \"RandomForestClassifier CM:\"\n",
    "print metrics.confusion_matrix(y_test, forest.predict(X_test))\n",
    "print metrics.classification_report(y_test, forest.predict(X_test))\n",
    "\n",
    "print \"GradientBoostingClassifier CM:\"\n",
    "print metrics.confusion_matrix(y_test, gbc.predict(X_test))\n",
    "print metrics.classification_report(y_test, gbc.predict(X_test))\n",
    "\n",
    "print \"AdaBoostClassifier CM:\"\n",
    "print metrics.confusion_matrix(y_test, ada.predict(X_test))\n",
    "print metrics.classification_report(y_test, ada.predict(X_test))\n"
   ]
  },
  {
   "cell_type": "code",
   "execution_count": 298,
   "metadata": {
    "collapsed": false
   },
   "outputs": [
    {
     "data": {
      "text/plain": [
       "[<matplotlib.lines.Line2D at 0x10bd15610>,\n",
       " <matplotlib.lines.Line2D at 0x10bd15890>]"
      ]
     },
     "execution_count": 298,
     "metadata": {},
     "output_type": "execute_result"
    },
    {
     "data": {
      "image/png": "[encoded data removed]",
      "text/plain": [
       "<matplotlib.figure.Figure at 0x10b4e9710>"
      ]
     },
     "metadata": {},
     "output_type": "display_data"
    }
   ],
   "source": [
    "fpr, tpr, thresholds = metrics.roc_curve(y_all, forest.predict_proba(X_all)[:,1])\n",
    "plt.plot(fpr, tpr,\n",
    "         fpr, fpr) # Second x,y pairs here are just to plot a line with slop 1.\n"
   ]
  },
  {
   "cell_type": "code",
   "execution_count": null,
   "metadata": {
    "collapsed": true
   },
   "outputs": [],
   "source": []
  }
 ],
 "metadata": {
  "kernelspec": {
   "display_name": "Python 2",
   "language": "python",
   "name": "python2"
  },
  "language_info": {
   "codemirror_mode": {
    "name": "ipython",
    "version": 2
   },
   "file_extension": ".py",
   "mimetype": "text/x-python",
   "name": "python",
   "nbconvert_exporter": "python",
   "pygments_lexer": "ipython2",
   "version": "2.7.10"
  }
 },
 "nbformat": 4,
 "nbformat_minor": 0
}
