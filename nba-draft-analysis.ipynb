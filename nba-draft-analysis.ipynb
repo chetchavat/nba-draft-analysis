{
 "cells": [
  {
   "cell_type": "code",
   "execution_count": 1,
   "metadata": {
    "collapsed": false
   },
   "outputs": [],
   "source": [
    "%matplotlib inline\n",
    "import pandas as pd\n",
    "import numpy as np\n",
    "import matplotlib.pyplot as plt\n",
    "import seaborn as sns\n",
    "\n",
    "import sklearn.metrics as metrics\n",
    "from __future__ import division\n",
    "\n",
    "from sklearn.cluster import KMeans\n",
    "from sklearn.metrics import silhouette_score\n",
    "from sklearn.preprocessing import scale\n",
    "from sklearn import cross_validation\n",
    "from sklearn.preprocessing import StandardScaler\n",
    "from sklearn import linear_model\n",
    "from sklearn.ensemble import RandomForestClassifier, GradientBoostingClassifier, AdaBoostClassifier\n"
   ]
  },
  {
   "cell_type": "code",
   "execution_count": 2,
   "metadata": {
    "collapsed": true
   },
   "outputs": [],
   "source": [
    "data_dir = 'data/'"
   ]
  },
  {
   "cell_type": "code",
   "execution_count": 3,
   "metadata": {
    "collapsed": false
   },
   "outputs": [],
   "source": [
    "draft = pd.read_csv(data_dir + 'draft_clean.csv', sep = '\\t', index_col = 0)\n",
    "ncaa = pd.read_csv(data_dir + 'ncaa_players_clean.csv', sep = '\\t', index_col = 0)\n",
    "ncaa_division = pd.read_csv(data_dir + 'ncaa_divisions.csv')"
   ]
  },
  {
   "cell_type": "code",
   "execution_count": 4,
   "metadata": {
    "collapsed": false
   },
   "outputs": [
    {
     "name": "stdout",
     "output_type": "stream",
     "text": [
      "               namekeys                 Player  Year  Rd  Pk   Tm  dummy\n",
      "0          masonplumlee          Mason Plumlee  2013   1  22  BRK      1\n",
      "1            rudygobert            Rudy Gobert  2013   1  27  DEN      1\n",
      "2           stevenadams           Steven Adams  2013   1  12  OKC      1\n",
      "3  giannisantetokounmpo  Giannis Antetokounmpo  2013   1  15  MIL      1\n",
      "4            codyzeller            Cody Zeller  2013   1   4  CHA      1\n",
      "              Year          Rd          Pk  dummy\n",
      "count   180.000000  180.000000  180.000000    180\n",
      "mean   2014.000000    1.500000   30.500000      1\n",
      "std       0.818774    0.501395   17.366409      0\n",
      "min    2013.000000    1.000000    1.000000      1\n",
      "25%    2013.000000    1.000000   15.750000      1\n",
      "50%    2014.000000    1.500000   30.500000      1\n",
      "75%    2015.000000    2.000000   45.250000      1\n",
      "max    2015.000000    2.000000   60.000000      1\n"
     ]
    }
   ],
   "source": [
    "draft['dummy'] = 1\n",
    "print draft.head()\n",
    "print draft.describe()\n"
   ]
  },
  {
   "cell_type": "code",
   "execution_count": 5,
   "metadata": {
    "collapsed": false
   },
   "outputs": [
    {
     "data": {
      "text/plain": [
       "array(['school_name', 'school_id', 'year', 'name', 'player_id',\n",
       "       'class_year', 'season', 'position', 'height', 'games',\n",
       "       'field_goals', 'field_goal_attempts', 'field_goal_percent',\n",
       "       'three_pointers', 'three_pointer_attempts', 'three_pointer_percent',\n",
       "       'free_throws', 'free_throw_attempts', 'free_throw_percent',\n",
       "       'rebounds', 'rebounds_per_game', 'assists', 'assists_per_game',\n",
       "       'blocks', 'blocks_per_game', 'steals', 'steals_per_game', 'points',\n",
       "       'points_per_game', 'turnovers', 'turnovers_per_game', 'namekeys',\n",
       "       'Division'], dtype=object)"
      ]
     },
     "execution_count": 5,
     "metadata": {},
     "output_type": "execute_result"
    }
   ],
   "source": [
    "divs_only = ncaa_division[['school_id','year','Division']]\n",
    "ncaa_divs = pd.merge(ncaa, divs_only, how = 'left', on = ['school_id','year'])\n",
    "\n",
    "ncaa_divs.columns.values"
   ]
  },
  {
   "cell_type": "code",
   "execution_count": 6,
   "metadata": {
    "collapsed": true
   },
   "outputs": [],
   "source": [
    "ncaa_draft = pd.merge(ncaa_divs, draft, how = 'left', on = 'namekeys')"
   ]
  },
  {
   "cell_type": "code",
   "execution_count": 7,
   "metadata": {
    "collapsed": false
   },
   "outputs": [],
   "source": [
    "ncaa_draft['dummy'].fillna(0, inplace = True)\n",
    "ncaa_draft['TS'] = ncaa_draft['points'] / (2 * (ncaa_draft['field_goal_attempts'] + 0.44 * ncaa_draft['free_throw_attempts']))\n",
    "ncaa_draft['TS'].fillna(0, inplace = True)\n",
    "ncaa_draft['3PAr'] = ncaa_draft['three_pointer_attempts']/ncaa_draft['field_goal_attempts']\n",
    "ncaa_draft['3PAr'].replace([np.inf, -np.inf], np.nan, inplace = True)\n",
    "ncaa_draft['3PAr'].fillna(0, inplace = True)\n",
    "ncaa_draft['FTr'] = ncaa_draft['free_throw_attempts']/ncaa_draft['field_goal_attempts']\n",
    "ncaa_draft['FTr'].replace([np.inf, -np.inf], np.nan, inplace = True)\n",
    "ncaa_draft['FTr'].fillna(0, inplace = True)\n",
    "ncaa_draft['turnovers_per_game'].fillna(0,inplace = True)\n",
    "ncaa_draft['AST/TO'] = ncaa_draft['assists'] / ncaa_draft['turnovers']\n",
    "ncaa_draft['AST/TO'].replace([np.inf, -np.inf], np.nan, inplace = True)\n",
    "ncaa_draft['AST/TO'].fillna(0, inplace = True)\n",
    "ncaa_draft['PPP'] = ncaa_draft.points / (ncaa_draft.field_goal_attempts + ncaa_draft.free_throw_attempts)\n",
    "ncaa_draft['PPP'].replace([np.inf, -np.inf], np.nan, inplace = True)\n",
    "ncaa_draft['PPP'].fillna(0, inplace = True)\n",
    "ncaa_draft = pd.get_dummies(ncaa_draft, columns = ['Division'], prefix = 'is_Div')\n",
    "ncaa_draft = pd.get_dummies(ncaa_draft, columns = ['class_year'], prefix = 'is')\n",
    "ncaa_draft = pd.get_dummies(ncaa_draft, columns = ['position'], prefix = 'is')\n",
    "\n"
   ]
  },
  {
   "cell_type": "code",
   "execution_count": 8,
   "metadata": {
    "collapsed": false
   },
   "outputs": [],
   "source": [
    "ncaa_draft_dd = ncaa_draft.drop_duplicates(subset = ['namekeys'], keep = 'last')\n",
    "height = pd.DataFrame(list(ncaa_draft_dd.height.str.split('-')))\n",
    "height.columns = ['foot','inch']\n",
    "height[['foot','inch']] = height[['foot','inch']].replace('',0)\n",
    "height[['foot','inch']] = height[['foot','inch']].astype(int)\n",
    "height['foot'] = height['foot'] * [12]\n",
    "height['total_height'] = height['foot'] + height['inch']\n",
    "height.head()\n",
    "ncaa_draft_dd = ncaa_draft_dd.reset_index()\n",
    "ncaa_draft_dd = ncaa_draft_dd.drop('index', 1)"
   ]
  },
  {
   "cell_type": "code",
   "execution_count": 9,
   "metadata": {
    "collapsed": true
   },
   "outputs": [],
   "source": [
    "ncaa_draft_dd = ncaa_draft_dd.join(height['total_height'])"
   ]
  },
  {
   "cell_type": "code",
   "execution_count": 10,
   "metadata": {
    "collapsed": false
   },
   "outputs": [],
   "source": [
    "drafted = ncaa_draft_dd[ncaa_draft_dd.dummy == 1]\n",
    "undrafted = ncaa_draft_dd[ncaa_draft_dd.dummy == 0]\n",
    "draft_train = drafted.loc[np.random.choice(drafted.index, 137, replace=False)]\n",
    "undraft_train = undrafted.loc[np.random.choice(undrafted.index, (137*5), replace = False)]"
   ]
  },
  {
   "cell_type": "code",
   "execution_count": 11,
   "metadata": {
    "collapsed": false
   },
   "outputs": [
    {
     "data": {
      "text/plain": [
       "array(['school_name', 'school_id', 'year', 'name', 'player_id', 'season',\n",
       "       'height', 'games', 'field_goals', 'field_goal_attempts',\n",
       "       'field_goal_percent', 'three_pointers', 'three_pointer_attempts',\n",
       "       'three_pointer_percent', 'free_throws', 'free_throw_attempts',\n",
       "       'free_throw_percent', 'rebounds', 'rebounds_per_game', 'assists',\n",
       "       'assists_per_game', 'blocks', 'blocks_per_game', 'steals',\n",
       "       'steals_per_game', 'points', 'points_per_game', 'turnovers',\n",
       "       'turnovers_per_game', 'namekeys', 'Player', 'Year', 'Rd', 'Pk',\n",
       "       'Tm', 'dummy', 'TS', '3PAr', 'FTr', 'AST/TO', 'PPP', 'is_Div_1.0',\n",
       "       'is_Div_2.0', 'is_Div_3.0', 'is_Fr.', 'is_Jr.', 'is_So.', 'is_Sr.',\n",
       "       'is_C', 'is_F', 'is_G', 'total_height'], dtype=object)"
      ]
     },
     "execution_count": 11,
     "metadata": {},
     "output_type": "execute_result"
    }
   ],
   "source": [
    "frames = [draft_train, undraft_train]\n",
    "ncaa_bal = pd.concat(frames) \n",
    "ncaa_bal.columns.values"
   ]
  },
  {
   "cell_type": "code",
   "execution_count": 13,
   "metadata": {
    "collapsed": false
   },
   "outputs": [],
   "source": [
    "X_cols = ['is_Fr.','is_So.','is_Sr.',\n",
    "          'field_goals', 'field_goal_attempts', 'field_goal_percent',\n",
    "          'three_pointers', 'three_pointer_attempts', 'three_pointer_percent',\n",
    "          'free_throws', 'free_throw_attempts', 'free_throw_percent',\n",
    "          'rebounds', 'rebounds_per_game', 'assists', 'assists_per_game',\n",
    "          'blocks', 'blocks_per_game', 'steals', 'steals_per_game', 'points',\n",
    "          'points_per_game', 'turnovers', 'turnovers_per_game',\n",
    "          'TS', 'AST/TO','PPP','total_height','is_Div_1.0','is_Div_2.0']\n",
    "\n",
    "\n",
    "clf_features = ['is_Fr.',\n",
    "                'field_goal_percent','three_pointer_percent','free_throw_percent',\n",
    "                'rebounds_per_game', 'assists_per_game',\n",
    "                'blocks_per_game', 'steals_per_game', \n",
    "                'points_per_game', 'turnovers_per_game',\n",
    "                'TS', 'AST/TO','PPP','total_height','is_Div_1.0','3PAr', 'FTr']"
   ]
  },
  {
   "cell_type": "code",
   "execution_count": 21,
   "metadata": {
    "collapsed": false
   },
   "outputs": [
    {
     "data": {
      "text/plain": [
       "<matplotlib.axes._subplots.AxesSubplot at 0x110f4ec90>"
      ]
     },
     "execution_count": 21,
     "metadata": {},
     "output_type": "execute_result"
    },
    {
     "data": {
      "image/png": "[encoded data removed]",
      "text/plain": [
       "<matplotlib.figure.Figure at 0x10cfe3a10>"
      ]
     },
     "metadata": {},
     "output_type": "display_data"
    }
   ],
   "source": [
    "# Compute the correlation matrix\n",
    "corr = ncaa_bal[X_cols].corr()\n",
    "\n",
    "# Generate a mask for the upper triangle\n",
    "mask = np.zeros_like(corr, dtype=np.bool)\n",
    "mask[np.triu_indices_from(mask)] = True\n",
    "\n",
    "# Set up the matplotlib figure\n",
    "f, ax = plt.subplots(figsize=(11, 9))\n",
    "\n",
    "# Generate a custom diverging colormap\n",
    "cmap = sns.diverging_palette(220, 10, as_cmap=True)\n",
    "\n",
    "# Draw the heatmap with the mask and correct aspect ratio\n",
    "sns.heatmap(corr, mask=mask, cmap=cmap, vmax=1,\n",
    "            square=True, xticklabels=True, yticklabels=True,\n",
    "            linewidths=.5, cbar_kws={\"shrink\": .5}, ax=ax)\n"
   ]
  },
  {
   "cell_type": "code",
   "execution_count": 22,
   "metadata": {
    "collapsed": false
   },
   "outputs": [
    {
     "data": {
      "text/plain": [
       "<matplotlib.axes._subplots.AxesSubplot at 0x1121c9e50>"
      ]
     },
     "execution_count": 22,
     "metadata": {},
     "output_type": "execute_result"
    },
    {
     "data": {
      "image/png": "[encoded data removed]",
      "text/plain": [
       "<matplotlib.figure.Figure at 0x10cfda6d0>"
      ]
     },
     "metadata": {},
     "output_type": "display_data"
    }
   ],
   "source": [
    "# Compute the correlation matrix\n",
    "corr = ncaa_bal[clf_features].corr()\n",
    "\n",
    "# Generate a mask for the upper triangle\n",
    "mask = np.zeros_like(corr, dtype=np.bool)\n",
    "mask[np.triu_indices_from(mask)] = True\n",
    "\n",
    "# Set up the matplotlib figure\n",
    "f, ax = plt.subplots(figsize=(11, 9))\n",
    "\n",
    "# Generate a custom diverging colormap\n",
    "cmap = sns.diverging_palette(220, 10, as_cmap=True)\n",
    "\n",
    "# Draw the heatmap with the mask and correct aspect ratio\n",
    "sns.heatmap(corr, mask=mask, cmap=cmap, vmax=1,\n",
    "            square=True, xticklabels=True, yticklabels=True,\n",
    "            linewidths=.5, cbar_kws={\"shrink\": .5}, ax=ax)"
   ]
  },
  {
   "cell_type": "code",
   "execution_count": 23,
   "metadata": {
    "collapsed": false
   },
   "outputs": [],
   "source": [
    "X = ncaa_bal[clf_features]\n",
    "y = ncaa_bal['dummy']\n",
    "\n",
    "X_t, X_tt, y_t, y_tt = cross_validation.train_test_split(X,y, test_size = .2)\n",
    "\n",
    "X_all = ncaa_draft_dd[clf_features]\n",
    "y_all = ncaa_draft_dd['dummy']\n",
    "\n",
    "X_train, X_test, y_train, y_test = cross_validation.train_test_split(X_all, y_all, test_size = .2)\n",
    "\n"
   ]
  },
  {
   "cell_type": "code",
   "execution_count": 24,
   "metadata": {
    "collapsed": false
   },
   "outputs": [
    {
     "name": "stdout",
     "output_type": "stream",
     "text": [
      "Features Selected:\n",
      "               feature selected\n",
      "0               is_Fr.     True\n",
      "3   free_throw_percent     True\n",
      "5     assists_per_game     True\n",
      "6      blocks_per_game     True\n",
      "9   turnovers_per_game     True\n",
      "11              AST/TO     True\n",
      "12                 PPP     True\n",
      "14          is_Div_1.0     True\n",
      "16                 FTr     True\n"
     ]
    }
   ],
   "source": [
    "from sklearn.feature_selection import SelectFromModel\n",
    "from sklearn.svm import LinearSVC\n",
    "from sklearn.pipeline import Pipeline\n",
    "\n",
    "clf = Pipeline([\n",
    "  ('feature_selection', SelectFromModel(LinearSVC(penalty=\"l1\", dual = False),threshold = 'median')),\n",
    "  ('classification', linear_model.LogisticRegression())\n",
    "])\n",
    "clf.fit(X_t, y_t)\n",
    "clf.score(X_t, y_t)\n",
    "support = clf.named_steps['feature_selection'].get_support()\n",
    "coefs = clf.named_steps['classification'].coef_\n",
    "\n",
    "support_list = pd.DataFrame(clf_features, support)\n",
    "support_list = support_list.reset_index()\n",
    "support_list.columns = ['selected','feature']\n",
    "cols = ['feature','selected']\n",
    "support_list = support_list[cols]\n",
    "\n",
    "print \"Features Selected:\"\n",
    "print support_list[support_list.selected == True]\n",
    "\n",
    "X_n_cols = support_list[support_list.selected == True]\n",
    "X_n_cols = X_n_cols['feature']\n",
    "xlist = X_n_cols.values.T.tolist()"
   ]
  },
  {
   "cell_type": "code",
   "execution_count": 25,
   "metadata": {
    "collapsed": false
   },
   "outputs": [
    {
     "name": "stdout",
     "output_type": "stream",
     "text": [
      "Feature Coefficients:\n",
      "              feature  coefficients\n",
      "0              is_Fr.      0.347964\n",
      "1  free_throw_percent     -0.168896\n",
      "2    assists_per_game      0.846485\n",
      "3     blocks_per_game      1.490534\n",
      "4  turnovers_per_game     -0.110892\n",
      "5              AST/TO     -0.631479\n",
      "6                 PPP      0.480937\n",
      "7          is_Div_1.0      2.997401\n",
      "8                 FTr     -0.008067\n",
      "Feature Reduced Logistic Regression: 0.911792088509\n",
      "Confusion Matrix and Report for Balanced Test Set:\n",
      "[[129   5]\n",
      " [ 13  18]]\n",
      "             precision    recall  f1-score   support\n",
      "\n",
      "        0.0       0.91      0.96      0.93       134\n",
      "        1.0       0.78      0.58      0.67        31\n",
      "\n",
      "avg / total       0.88      0.89      0.88       165\n",
      "\n"
     ]
    }
   ],
   "source": [
    "print \"Feature Coefficients:\"\n",
    "coef_list = pd.DataFrame(xlist, coefs[0])\n",
    "coef_list = coef_list.reset_index()\n",
    "coef_list.columns = ['coefficients','feature']\n",
    "cols = ['feature','coefficients']\n",
    "coef_list = coef_list[cols]\n",
    "print coef_list\n",
    "\n",
    "scores = cross_validation.cross_val_score(clf, X_t, y_t, cv = 10)\n",
    "print \"Feature Reduced Logistic Regression:\", scores.mean()\n",
    "\n",
    "print \"Confusion Matrix and Report for Balanced Test Set:\"\n",
    "print metrics.confusion_matrix(y_tt, clf.predict(X_tt))\n",
    "print metrics.classification_report(y_tt, clf.predict(X_tt))\n"
   ]
  },
  {
   "cell_type": "code",
   "execution_count": 26,
   "metadata": {
    "collapsed": false
   },
   "outputs": [
    {
     "name": "stdout",
     "output_type": "stream",
     "text": [
      "RandomForestClassifier: 0.951257349616\n",
      "RandomForestClassifier CM:\n",
      "[[130   4]\n",
      " [ 11  20]]\n",
      "             precision    recall  f1-score   support\n",
      "\n",
      "        0.0       0.92      0.97      0.95       134\n",
      "        1.0       0.83      0.65      0.73        31\n",
      "\n",
      "avg / total       0.91      0.91      0.90       165\n",
      "\n",
      "Random Forest Feature ranking:\n",
      "1. is_Div_1.0 (0.140261)\n",
      "2. points_per_game (0.127851)\n",
      "3. steals_per_game (0.106627)\n",
      "4. rebounds_per_game (0.098382)\n",
      "5. total_height (0.083398)\n",
      "6. blocks_per_game (0.072214)\n",
      "7. assists_per_game (0.060735)\n",
      "8. turnovers_per_game (0.056542)\n",
      "9. TS (0.048973)\n",
      "10. PPP (0.032589)\n",
      "11. AST/TO (0.031478)\n",
      "12. field_goal_percent (0.028267)\n",
      "13. FTr (0.027710)\n",
      "14. 3PAr (0.024724)\n",
      "15. free_throw_percent (0.022829)\n",
      "16. three_pointer_percent (0.022533)\n",
      "17. is_Fr. (0.014888)\n"
     ]
    }
   ],
   "source": [
    "forest = RandomForestClassifier(n_estimators=250, max_features = 'auto',\n",
    "                                random_state=0, max_depth=None,\n",
    "                                )\n",
    "forest.fit(X_t, y_t)\n",
    "scores = cross_validation.cross_val_score(forest, X_t, y_t, cv = 10)\n",
    "print \"RandomForestClassifier:\", scores.mean()\n",
    "print \"RandomForestClassifier CM:\"\n",
    "print metrics.confusion_matrix(y_tt, forest.predict(X_tt))\n",
    "print metrics.classification_report(y_tt, forest.predict(X_tt))\n",
    "\n",
    "#Forest Importances\n",
    "importances = forest.fit(X_tt, y_tt).feature_importances_\n",
    "std = np.std([tree.feature_importances_ for tree in forest.estimators_],\n",
    "             axis=0)\n",
    "indices = np.argsort(importances)[::-1]\n",
    "\n",
    "# Print the feature ranking\n",
    "\n",
    "X_cols_rf = []\n",
    "for i in range(0,len(indices)):\n",
    "    X_cols_rf.append(clf_features[indices[i]])\n",
    "\n",
    "print(\"Random Forest Feature ranking:\")\n",
    "for f in range(len(X_cols_rf)):\n",
    "    print(\"%d. %s (%f)\" % (f + 1, X_cols_rf[f], importances[indices[f]]))\n"
   ]
  },
  {
   "cell_type": "code",
   "execution_count": 27,
   "metadata": {
    "collapsed": false
   },
   "outputs": [
    {
     "name": "stdout",
     "output_type": "stream",
     "text": [
      "AdaBoostClassifier: 0.951286206288\n",
      "AdaBoostClassifier CM:\n",
      "[[129   5]\n",
      " [ 10  21]]\n",
      "             precision    recall  f1-score   support\n",
      "\n",
      "        0.0       0.93      0.96      0.95       134\n",
      "        1.0       0.81      0.68      0.74        31\n",
      "\n",
      "avg / total       0.91      0.91      0.91       165\n",
      "\n",
      "AdaBoost Feature ranking:\n",
      "1. total_height (0.172000)\n",
      "2. points_per_game (0.164000)\n",
      "3. is_Div_1.0 (0.156000)\n",
      "4. TS (0.136000)\n",
      "5. PPP (0.112000)\n",
      "6. steals_per_game (0.064000)\n",
      "7. 3PAr (0.052000)\n",
      "8. free_throw_percent (0.036000)\n",
      "9. FTr (0.032000)\n",
      "10. blocks_per_game (0.028000)\n",
      "11. AST/TO (0.028000)\n",
      "12. assists_per_game (0.020000)\n",
      "13. turnovers_per_game (0.000000)\n",
      "14. rebounds_per_game (0.000000)\n",
      "15. three_pointer_percent (0.000000)\n",
      "16. field_goal_percent (0.000000)\n",
      "17. is_Fr. (0.000000)\n"
     ]
    }
   ],
   "source": [
    "ada = AdaBoostClassifier(n_estimators = 250, learning_rate = 0.05, random_state = 0)\n",
    "ada.fit(X_t,y_t)\n",
    "scores = cross_validation.cross_val_score(ada, X_t, y_t)\n",
    "print \"AdaBoostClassifier:\", scores.mean()\n",
    "print \"AdaBoostClassifier CM:\"\n",
    "print metrics.confusion_matrix(y_tt, ada.predict(X_tt))\n",
    "print metrics.classification_report(y_tt, ada.predict(X_tt))\n",
    "\n",
    "\n",
    "#Forest Importances\n",
    "importances = ada.fit(X_tt, y_tt).feature_importances_\n",
    "std = np.std([tree.feature_importances_ for tree in forest.estimators_],\n",
    "             axis=0)\n",
    "indices = np.argsort(importances)[::-1]\n",
    "\n",
    "    \n",
    "X_cols_ab = []\n",
    "for i in range(0,len(indices)):\n",
    "    X_cols_ab.append(clf_features[indices[i]])\n",
    "\n",
    "print(\"AdaBoost Feature ranking:\")\n",
    "for f in range(len(X_cols_ab)):\n",
    "    print(\"%d. %s (%f)\" % (f + 1, X_cols_ab[f], importances[indices[f]]))\n"
   ]
  },
  {
   "cell_type": "code",
   "execution_count": 28,
   "metadata": {
    "collapsed": false
   },
   "outputs": [
    {
     "name": "stdout",
     "output_type": "stream",
     "text": [
      "GradientBoostingClassifier: 0.939019587378\n",
      "GradientBoostingClassifier CM:\n",
      "[[129   5]\n",
      " [  9  22]]\n",
      "             precision    recall  f1-score   support\n",
      "\n",
      "        0.0       0.93      0.96      0.95       134\n",
      "        1.0       0.81      0.71      0.76        31\n",
      "\n",
      "avg / total       0.91      0.92      0.91       165\n",
      "\n",
      "Gradient Boosting Feature ranking:\n",
      "1. points_per_game (0.171426)\n",
      "2. total_height (0.155514)\n",
      "3. blocks_per_game (0.089323)\n",
      "4. steals_per_game (0.081246)\n",
      "5. FTr (0.074615)\n",
      "6. is_Div_1.0 (0.072553)\n",
      "7. rebounds_per_game (0.062035)\n",
      "8. PPP (0.058775)\n",
      "9. TS (0.050120)\n",
      "10. AST/TO (0.042842)\n",
      "11. is_Fr. (0.042226)\n",
      "12. assists_per_game (0.027339)\n",
      "13. turnovers_per_game (0.021958)\n",
      "14. 3PAr (0.015465)\n",
      "15. field_goal_percent (0.014971)\n",
      "16. free_throw_percent (0.014658)\n",
      "17. three_pointer_percent (0.004935)\n"
     ]
    }
   ],
   "source": [
    "gbc = GradientBoostingClassifier(learning_rate = 0.05, n_estimators = 250, random_state = 0)\n",
    "\n",
    "gbc.fit(X_t,y_t)\n",
    "scores = cross_validation.cross_val_score(gbc, X_t, y_t, cv = 10)\n",
    "print \"GradientBoostingClassifier:\", scores.mean()\n",
    "print \"GradientBoostingClassifier CM:\"\n",
    "print metrics.confusion_matrix(y_tt, gbc.predict(X_tt))\n",
    "print metrics.classification_report(y_tt, gbc.predict(X_tt))\n",
    "\n",
    "\n",
    "#Gradient Boosting Importances\n",
    "importances = gbc.fit(X_tt, y_tt).feature_importances_\n",
    "std = np.std([tree.feature_importances_ for tree in forest.estimators_],\n",
    "             axis=0)\n",
    "indices = np.argsort(importances)[::-1]\n",
    "\n",
    "X_cols_gb = []\n",
    "for i in range(0,len(indices)):\n",
    "    X_cols_gb.append(clf_features[indices[i]])\n",
    "\n",
    "\n",
    "print(\"Gradient Boosting Feature ranking:\")\n",
    "for f in range(len(X_cols_gb)):\n",
    "    print(\"%d. %s (%f)\" % (f + 1, X_cols_gb[f], importances[indices[f]]))\n"
   ]
  },
  {
   "cell_type": "code",
   "execution_count": 29,
   "metadata": {
    "collapsed": false
   },
   "outputs": [
    {
     "data": {
      "text/plain": [
       "<matplotlib.legend.Legend at 0x112d67390>"
      ]
     },
     "execution_count": 29,
     "metadata": {},
     "output_type": "execute_result"
    },
    {
     "data": {
      "image/png": "[encoded data removed]",
      "text/plain": [
       "<matplotlib.figure.Figure at 0x112bb5d10>"
      ]
     },
     "metadata": {},
     "output_type": "display_data"
    }
   ],
   "source": [
    "fpr, tpr, thresholds = metrics.roc_curve(y_tt, forest.predict_proba(X_tt)[:,1])\n",
    "plt_plt = plt.plot(fpr, fpr, label = 'Slope = 1')\n",
    "forest_plt = plt.plot(fpr, tpr, label = 'Random Forest')\n",
    "\n",
    "fpr, tpr, thresholds = metrics.roc_curve(y_tt, gbc.predict_proba(X_tt)[:,1])\n",
    "gbc_plt = plt.plot(fpr, tpr, label = 'Gradient Boosting')\n",
    "\n",
    "fpr, tpr, thresholds = metrics.roc_curve(y_tt, ada.predict_proba(X_tt)[:,1])\n",
    "ada_plt = plt.plot(fpr, tpr, label = 'AdaBoosting')\n",
    "\n",
    "fpr, tpr, thresholds = metrics.roc_curve(y_tt, clf.predict_proba(X_tt)[:,1])\n",
    "clf_plt = plt.plot(fpr, tpr, label = 'Pipeline (Feature Selection + Logistic Regression)')\n",
    "\n",
    "\n",
    "plt.legend(loc='lower right')\n"
   ]
  },
  {
   "cell_type": "code",
   "execution_count": 30,
   "metadata": {
    "collapsed": false
   },
   "outputs": [
    {
     "name": "stdout",
     "output_type": "stream",
     "text": [
      "Confusion Matrix and Report for Unbalanced Sample:\n",
      "[[28326   844]\n",
      " [   46    91]]\n",
      "             precision    recall  f1-score   support\n",
      "\n",
      "        0.0       1.00      0.97      0.98     29170\n",
      "        1.0       0.10      0.66      0.17       137\n",
      "\n",
      "avg / total       0.99      0.97      0.98     29307\n",
      "\n",
      "RandomForestClassifier CM:\n",
      "[[28263   907]\n",
      " [   20   117]]\n",
      "             precision    recall  f1-score   support\n",
      "\n",
      "        0.0       1.00      0.97      0.98     29170\n",
      "        1.0       0.11      0.85      0.20       137\n",
      "\n",
      "avg / total       1.00      0.97      0.98     29307\n",
      "\n",
      "GradientBoostingClassifier CM:\n",
      "[[28070  1100]\n",
      " [   25   112]]\n",
      "             precision    recall  f1-score   support\n",
      "\n",
      "        0.0       1.00      0.96      0.98     29170\n",
      "        1.0       0.09      0.82      0.17       137\n",
      "\n",
      "avg / total       0.99      0.96      0.98     29307\n",
      "\n",
      "AdaBoostClassifier CM:\n",
      "[[28183   987]\n",
      " [   30   107]]\n",
      "             precision    recall  f1-score   support\n",
      "\n",
      "        0.0       1.00      0.97      0.98     29170\n",
      "        1.0       0.10      0.78      0.17       137\n",
      "\n",
      "avg / total       0.99      0.97      0.98     29307\n",
      "\n"
     ]
    }
   ],
   "source": [
    "print \"Confusion Matrix and Report for Unbalanced Sample:\"\n",
    "print metrics.confusion_matrix(y_all, clf.predict(X_all))\n",
    "print metrics.classification_report(y_all, clf.predict(X_all))\n",
    "\n",
    "print \"RandomForestClassifier CM:\"\n",
    "print metrics.confusion_matrix(y_all, forest.predict(X_all))\n",
    "print metrics.classification_report(y_all, forest.predict(X_all))\n",
    "\n",
    "print \"GradientBoostingClassifier CM:\"\n",
    "print metrics.confusion_matrix(y_all, gbc.predict(X_all))\n",
    "print metrics.classification_report(y_all, gbc.predict(X_all))\n",
    "\n",
    "print \"AdaBoostClassifier CM:\"\n",
    "print metrics.confusion_matrix(y_all, ada.predict(X_all))\n",
    "print metrics.classification_report(y_all, ada.predict(X_all))"
   ]
  },
  {
   "cell_type": "code",
   "execution_count": 47,
   "metadata": {
    "collapsed": false
   },
   "outputs": [
    {
     "data": {
      "text/plain": [
       "<matplotlib.legend.Legend at 0x117494810>"
      ]
     },
     "execution_count": 47,
     "metadata": {},
     "output_type": "execute_result"
    },
    {
     "data": {
      "image/png": "[encoded data removed]",
      "text/plain": [
       "<matplotlib.figure.Figure at 0x1168e5a50>"
      ]
     },
     "metadata": {},
     "output_type": "display_data"
    }
   ],
   "source": [
    "plt.figure(figsize=(12,12))\n",
    "\n",
    "fpr, tpr, thresholds = metrics.roc_curve(y_all, forest.predict_proba(X_all)[:,1])\n",
    "\n",
    "plt_plt = plt.plot(fpr, fpr)\n",
    "forest_plt = plt.plot(fpr, tpr, label = 'Random Forest')\n",
    "\n",
    "fpr, tpr, thresholds = metrics.roc_curve(y_all, gbc.predict_proba(X_all)[:,1])\n",
    "gbc_plt = plt.plot(fpr, tpr, label = 'Gradient Boosting')\n",
    "\n",
    "fpr, tpr, thresholds = metrics.roc_curve(y_all, ada.predict_proba(X_all)[:,1])\n",
    "ada_plt = plt.plot(fpr, tpr, label = 'AdaBoosting')\n",
    "\n",
    "fpr, tpr, thresholds = metrics.roc_curve(y_all, clf.predict_proba(X_all)[:,1])\n",
    "clf_plt = plt.plot(fpr, tpr, label = 'Pipeline (Feature Selection + Logistic Regression)')\n",
    "\n",
    "plt.suptitle('ROC Curve', fontsize=24)\n",
    "plt.xlabel('False Positive Rate', fontsize=14)\n",
    "plt.ylabel('True Positive Rate', fontsize=14)\n",
    "\n",
    "plt.legend(loc='lower right')\n",
    "\n"
   ]
  },
  {
   "cell_type": "code",
   "execution_count": 48,
   "metadata": {
    "collapsed": false
   },
   "outputs": [],
   "source": [
    "draft2 = pd.read_csv(data_dir + '2012draft_clean.csv', sep = '\\t', index_col = 0)\n",
    "ncaa2 = pd.read_csv(data_dir + 'ncaa_players_clean2012.csv', sep = '\\t', index_col = 0)\n",
    "draft2['dummy'] = 1"
   ]
  },
  {
   "cell_type": "code",
   "execution_count": 49,
   "metadata": {
    "collapsed": true
   },
   "outputs": [],
   "source": [
    "ncaa_divs2 = pd.merge(ncaa2, divs_only, how = 'left', on = ['school_id','year'])"
   ]
  },
  {
   "cell_type": "code",
   "execution_count": 50,
   "metadata": {
    "collapsed": false
   },
   "outputs": [],
   "source": [
    "ncaa_draft2 = pd.merge(ncaa_divs2, draft2, how = 'left', on = 'namekeys')\n"
   ]
  },
  {
   "cell_type": "code",
   "execution_count": 51,
   "metadata": {
    "collapsed": false
   },
   "outputs": [],
   "source": [
    "ncaa_draft2['dummy'].fillna(0, inplace = True)\n",
    "ncaa_draft2['TS'] = ncaa_draft2['points'] / (2 * (ncaa_draft2['field_goal_attempts'] + 0.44 * ncaa_draft2['free_throw_attempts']))\n",
    "ncaa_draft2['TS'].fillna(0, inplace = True)\n",
    "ncaa_draft2['3PAr'] = ncaa_draft2['three_pointer_attempts']/ncaa_draft2['field_goal_attempts']\n",
    "ncaa_draft2['3PAr'].replace([np.inf, -np.inf], np.nan, inplace = True)\n",
    "ncaa_draft2['3PAr'].fillna(0, inplace = True)\n",
    "ncaa_draft2['FTr'] = ncaa_draft2['free_throw_attempts']/ncaa_draft2['field_goal_attempts']\n",
    "ncaa_draft2['FTr'].replace([np.inf, -np.inf], np.nan, inplace = True)\n",
    "ncaa_draft2['FTr'].fillna(0, inplace = True)\n",
    "ncaa_draft2['turnovers_per_game'].fillna(0,inplace = True)\n",
    "ncaa_draft2['AST/TO'] = ncaa_draft2['assists']/ncaa_draft2['turnovers']\n",
    "ncaa_draft2['AST/TO'].replace([np.inf, -np.inf], np.nan, inplace = True)\n",
    "ncaa_draft2['AST/TO'].fillna(0, inplace = True)\n",
    "ncaa_draft2['PPP'] = ncaa_draft2.points / (ncaa_draft2.field_goal_attempts + ncaa_draft2.free_throw_attempts)\n",
    "ncaa_draft2['PPP'].replace([np.inf, -np.inf], np.nan, inplace = True)\n",
    "ncaa_draft2['PPP'].fillna(0, inplace = True)\n",
    "ncaa_draft2 = pd.get_dummies(ncaa_draft2, columns = ['Division'], prefix = 'is_Div')\n",
    "ncaa_draft2 = pd.get_dummies(ncaa_draft2, columns = ['class_year'], prefix = 'is')\n",
    "\n",
    "\n",
    "ncaa_draft_dd2 = ncaa_draft2.drop_duplicates(subset = ['namekeys'], keep = 'last')\n",
    "height = pd.DataFrame(list(ncaa_draft_dd2.height.str.split('-')))\n",
    "height.columns = ['foot','inch']\n",
    "height[['foot','inch']] = height[['foot','inch']].replace('',0)\n",
    "height[['foot','inch']] = height[['foot','inch']].astype(int)\n",
    "height['foot'] = height['foot'] * [12]\n",
    "height['total_height'] = height['foot'] + height['inch']\n",
    "height.head()\n",
    "ncaa_draft_dd2 = ncaa_draft_dd2.reset_index()\n",
    "ncaa_draft_dd2 = ncaa_draft_dd2.drop('index', 1)\n",
    "ncaa_draft_dd2 = ncaa_draft_dd2.join(height['total_height'])\n"
   ]
  },
  {
   "cell_type": "code",
   "execution_count": 52,
   "metadata": {
    "collapsed": false
   },
   "outputs": [
    {
     "data": {
      "text/plain": [
       "(16151, 50)"
      ]
     },
     "execution_count": 52,
     "metadata": {},
     "output_type": "execute_result"
    }
   ],
   "source": [
    "X_all2 = ncaa_draft_dd2[clf_features]\n",
    "y_all2 = ncaa_draft_dd2['dummy']\n",
    "ncaa_draft_dd2.shape"
   ]
  },
  {
   "cell_type": "code",
   "execution_count": 53,
   "metadata": {
    "collapsed": false
   },
   "outputs": [
    {
     "name": "stdout",
     "output_type": "stream",
     "text": [
      "Confusion Matrix and Report for Unbalanced Sample:\n",
      "[[15578   525]\n",
      " [   18    30]]\n",
      "             precision    recall  f1-score   support\n",
      "\n",
      "        0.0       1.00      0.97      0.98     16103\n",
      "        1.0       0.05      0.62      0.10        48\n",
      "\n",
      "avg / total       1.00      0.97      0.98     16151\n",
      "\n",
      "RandomForestClassifier CM:\n",
      "[[15624   479]\n",
      " [   12    36]]\n",
      "             precision    recall  f1-score   support\n",
      "\n",
      "        0.0       1.00      0.97      0.98     16103\n",
      "        1.0       0.07      0.75      0.13        48\n",
      "\n",
      "avg / total       1.00      0.97      0.98     16151\n",
      "\n",
      "GradientBoostingClassifier CM:\n",
      "[[15518   585]\n",
      " [   12    36]]\n",
      "             precision    recall  f1-score   support\n",
      "\n",
      "        0.0       1.00      0.96      0.98     16103\n",
      "        1.0       0.06      0.75      0.11        48\n",
      "\n",
      "avg / total       1.00      0.96      0.98     16151\n",
      "\n",
      "AdaBoostClassifier CM:\n",
      "[[15540   563]\n",
      " [   10    38]]\n",
      "             precision    recall  f1-score   support\n",
      "\n",
      "        0.0       1.00      0.97      0.98     16103\n",
      "        1.0       0.06      0.79      0.12        48\n",
      "\n",
      "avg / total       1.00      0.96      0.98     16151\n",
      "\n"
     ]
    }
   ],
   "source": [
    "print \"Confusion Matrix and Report for Unbalanced Sample:\"\n",
    "print metrics.confusion_matrix(y_all2, clf.predict(X_all2))\n",
    "print metrics.classification_report(y_all2, clf.predict(X_all2))\n",
    "\n",
    "print \"RandomForestClassifier CM:\"\n",
    "print metrics.confusion_matrix(y_all2, forest.predict(X_all2))\n",
    "print metrics.classification_report(y_all2, forest.predict(X_all2))\n",
    "\n",
    "print \"GradientBoostingClassifier CM:\"\n",
    "print metrics.confusion_matrix(y_all2, gbc.predict(X_all2))\n",
    "print metrics.classification_report(y_all2, gbc.predict(X_all2))\n",
    "\n",
    "print \"AdaBoostClassifier CM:\"\n",
    "print metrics.confusion_matrix(y_all2, ada.predict(X_all2))\n",
    "print metrics.classification_report(y_all2, ada.predict(X_all2))"
   ]
  },
  {
   "cell_type": "code",
   "execution_count": 54,
   "metadata": {
    "collapsed": false
   },
   "outputs": [],
   "source": [
    "dray = ncaa_draft_dd2[ncaa_draft_dd2.namekeys == 'draymondgreen']"
   ]
  },
  {
   "cell_type": "code",
   "execution_count": 55,
   "metadata": {
    "collapsed": false
   },
   "outputs": [
    {
     "name": "stdout",
     "output_type": "stream",
     "text": [
      "Model Probability of Getting Drafted: \n",
      "\n",
      "Feature Reduced Logistic Regression:  0.828171884835\n",
      "Random Forest Classifier:  0.92\n",
      "Gradient Boosting Classifier:  0.998581073001\n",
      "AdaBoosting Classifier:  0.542705914745\n"
     ]
    }
   ],
   "source": [
    "print \"Model Probability of Getting Drafted: \\n\" \n",
    "\n",
    "prob = clf.predict_proba(X_all2.iloc[dray.index])\n",
    "print \"Feature Reduced Logistic Regression: \", prob[0][1]\n",
    "\n",
    "prob = forest.predict_proba(X_all2.iloc[dray.index])\n",
    "print \"Random Forest Classifier: \", prob[0][1]\n",
    "\n",
    "prob = gbc.predict_proba(X_all2.iloc[dray.index])\n",
    "print \"Gradient Boosting Classifier: \", prob[0][1]\n",
    "\n",
    "prob = ada.predict_proba(X_all2.iloc[dray.index])\n",
    "print \"AdaBoosting Classifier: \", prob[0][1]\n"
   ]
  },
  {
   "cell_type": "code",
   "execution_count": 437,
   "metadata": {
    "collapsed": false
   },
   "outputs": [
    {
     "data": {
      "text/html": [
       "<div>\n",
       "<table border=\"1\" class=\"dataframe\">\n",
       "  <thead>\n",
       "    <tr style=\"text-align: right;\">\n",
       "      <th></th>\n",
       "      <th>8216</th>\n",
       "    </tr>\n",
       "  </thead>\n",
       "  <tbody>\n",
       "    <tr>\n",
       "      <th>school_name</th>\n",
       "      <td>Michigan St.</td>\n",
       "    </tr>\n",
       "    <tr>\n",
       "      <th>name</th>\n",
       "      <td>Draymond Green</td>\n",
       "    </tr>\n",
       "    <tr>\n",
       "      <th>position</th>\n",
       "      <td>F</td>\n",
       "    </tr>\n",
       "    <tr>\n",
       "      <th>height</th>\n",
       "      <td>6-7</td>\n",
       "    </tr>\n",
       "    <tr>\n",
       "      <th>is_Sr.</th>\n",
       "      <td>1</td>\n",
       "    </tr>\n",
       "    <tr>\n",
       "      <th>field_goal_percent</th>\n",
       "      <td>0.449</td>\n",
       "    </tr>\n",
       "    <tr>\n",
       "      <th>three_pointer_percent</th>\n",
       "      <td>0.388</td>\n",
       "    </tr>\n",
       "    <tr>\n",
       "      <th>free_throw_percent</th>\n",
       "      <td>0.723</td>\n",
       "    </tr>\n",
       "    <tr>\n",
       "      <th>rebounds_per_game</th>\n",
       "      <td>10.649</td>\n",
       "    </tr>\n",
       "    <tr>\n",
       "      <th>assists_per_game</th>\n",
       "      <td>3.811</td>\n",
       "    </tr>\n",
       "    <tr>\n",
       "      <th>blocks_per_game</th>\n",
       "      <td>0.946</td>\n",
       "    </tr>\n",
       "    <tr>\n",
       "      <th>steals_per_game</th>\n",
       "      <td>1.459</td>\n",
       "    </tr>\n",
       "    <tr>\n",
       "      <th>points_per_game</th>\n",
       "      <td>16.243</td>\n",
       "    </tr>\n",
       "    <tr>\n",
       "      <th>turnovers_per_game</th>\n",
       "      <td>3.02703</td>\n",
       "    </tr>\n",
       "    <tr>\n",
       "      <th>TS</th>\n",
       "      <td>0.548238</td>\n",
       "    </tr>\n",
       "    <tr>\n",
       "      <th>AST/TO</th>\n",
       "      <td>1.25893</td>\n",
       "    </tr>\n",
       "    <tr>\n",
       "      <th>PPP</th>\n",
       "      <td>0.931783</td>\n",
       "    </tr>\n",
       "    <tr>\n",
       "      <th>total_height</th>\n",
       "      <td>79</td>\n",
       "    </tr>\n",
       "    <tr>\n",
       "      <th>is_Div_1.0</th>\n",
       "      <td>1</td>\n",
       "    </tr>\n",
       "    <tr>\n",
       "      <th>3PAr</th>\n",
       "      <td>0.283898</td>\n",
       "    </tr>\n",
       "    <tr>\n",
       "      <th>FTr</th>\n",
       "      <td>0.366525</td>\n",
       "    </tr>\n",
       "  </tbody>\n",
       "</table>\n",
       "</div>"
      ],
      "text/plain": [
       "                                 8216\n",
       "school_name              Michigan St.\n",
       "name                   Draymond Green\n",
       "position                            F\n",
       "height                            6-7\n",
       "is_Sr.                              1\n",
       "field_goal_percent              0.449\n",
       "three_pointer_percent           0.388\n",
       "free_throw_percent              0.723\n",
       "rebounds_per_game              10.649\n",
       "assists_per_game                3.811\n",
       "blocks_per_game                 0.946\n",
       "steals_per_game                 1.459\n",
       "points_per_game                16.243\n",
       "turnovers_per_game            3.02703\n",
       "TS                           0.548238\n",
       "AST/TO                        1.25893\n",
       "PPP                          0.931783\n",
       "total_height                       79\n",
       "is_Div_1.0                          1\n",
       "3PAr                         0.283898\n",
       "FTr                          0.366525"
      ]
     },
     "execution_count": 437,
     "metadata": {},
     "output_type": "execute_result"
    }
   ],
   "source": [
    "display_vars = ['school_name','name', 'position','height','is_Sr.',\n",
    "                'field_goal_percent','three_pointer_percent','free_throw_percent',\n",
    "                'rebounds_per_game', 'assists_per_game',\n",
    "                'blocks_per_game', 'steals_per_game', \n",
    "                'points_per_game', 'turnovers_per_game',\n",
    "                'TS', 'AST/TO','PPP','total_height','is_Div_1.0','3PAr', 'FTr']\n",
    "dray[display_vars].T"
   ]
  },
  {
   "cell_type": "code",
   "execution_count": 56,
   "metadata": {
    "collapsed": false
   },
   "outputs": [
    {
     "name": "stdout",
     "output_type": "stream",
     "text": [
      "Decision TreeClassifier: 0.936034512751\n",
      "Decision Tree CM:\n",
      "[[15601   502]\n",
      " [   11    37]]\n",
      "             precision    recall  f1-score   support\n",
      "\n",
      "        0.0       1.00      0.97      0.98     16103\n",
      "        1.0       0.07      0.77      0.13        48\n",
      "\n",
      "avg / total       1.00      0.97      0.98     16151\n",
      "\n"
     ]
    }
   ],
   "source": [
    "from sklearn.externals.six import StringIO\n",
    "from sklearn import tree\n",
    "\n",
    "dtree = tree.DecisionTreeClassifier(random_state=0)\n",
    "dtree = dtree.fit(X_t, y_t)\n",
    "scores = cross_validation.cross_val_score(dtree, X_t, y_t, cv = 10)\n",
    "print \"Decision TreeClassifier:\", scores.mean()\n",
    "print \"Decision Tree CM:\"\n",
    "print metrics.confusion_matrix(y_all2, dtree.predict(X_all2))\n",
    "print metrics.classification_report(y_all2, dtree.predict(X_all2))\n",
    "\n",
    "with open(\"tree.dot\", 'w') as f:\n",
    "    f = tree.export_graphviz(dtree, out_file=f, \n",
    "                            feature_names=clf_features, \n",
    "                            class_names=['0','1'],\n",
    "                            rounded=True, filled=True)"
   ]
  },
  {
   "cell_type": "code",
   "execution_count": 465,
   "metadata": {
    "collapsed": false
   },
   "outputs": [],
   "source": [
    "!dot -Tpng tree.dot > tree.png"
   ]
  },
  {
   "cell_type": "code",
   "execution_count": null,
   "metadata": {
    "collapsed": true
   },
   "outputs": [],
   "source": []
  },
  {
   "cell_type": "code",
   "execution_count": null,
   "metadata": {
    "collapsed": true
   },
   "outputs": [],
   "source": []
  }
 ],
 "metadata": {
  "kernelspec": {
   "display_name": "Python 2",
   "language": "python",
   "name": "python2"
  },
  "language_info": {
   "codemirror_mode": {
    "name": "ipython",
    "version": 2
   },
   "file_extension": ".py",
   "mimetype": "text/x-python",
   "name": "python",
   "nbconvert_exporter": "python",
   "pygments_lexer": "ipython2",
   "version": "2.7.10"
  }
 },
 "nbformat": 4,
 "nbformat_minor": 0
}
