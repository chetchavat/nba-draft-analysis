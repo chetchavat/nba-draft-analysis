{
 "cells": [
  {
   "cell_type": "code",
   "execution_count": 3,
   "metadata": {
    "collapsed": true
   },
   "outputs": [],
   "source": [
    "import pandas as pd\n",
    "import numpy as np"
   ]
  },
  {
   "cell_type": "code",
   "execution_count": 4,
   "metadata": {
    "collapsed": false
   },
   "outputs": [],
   "source": [
    "draft = pd.read_csv('2012_Draft.csv')"
   ]
  },
  {
   "cell_type": "code",
   "execution_count": 5,
   "metadata": {
    "collapsed": false
   },
   "outputs": [
    {
     "data": {
      "text/html": [
       "<div>\n",
       "<table border=\"1\" class=\"dataframe\">\n",
       "  <thead>\n",
       "    <tr style=\"text-align: right;\">\n",
       "      <th></th>\n",
       "      <th>Rd</th>\n",
       "      <th>Pk</th>\n",
       "      <th>Tm</th>\n",
       "      <th>Player</th>\n",
       "      <th>College</th>\n",
       "      <th>Yrs</th>\n",
       "      <th>FG%</th>\n",
       "      <th>3P%</th>\n",
       "      <th>FT%</th>\n",
       "      <th>MP</th>\n",
       "      <th>PTS</th>\n",
       "      <th>TRB</th>\n",
       "      <th>AST</th>\n",
       "    </tr>\n",
       "  </thead>\n",
       "  <tbody>\n",
       "    <tr>\n",
       "      <th>0</th>\n",
       "      <td>1</td>\n",
       "      <td>1</td>\n",
       "      <td>NOH</td>\n",
       "      <td>Anthony Davis</td>\n",
       "      <td>University of Kentucky</td>\n",
       "      <td>4</td>\n",
       "      <td>0.519</td>\n",
       "      <td>0.240</td>\n",
       "      <td>0.782</td>\n",
       "      <td>33.8</td>\n",
       "      <td>20.3</td>\n",
       "      <td>9.6</td>\n",
       "      <td>1.6</td>\n",
       "    </tr>\n",
       "    <tr>\n",
       "      <th>1</th>\n",
       "      <td>1</td>\n",
       "      <td>2</td>\n",
       "      <td>CHA</td>\n",
       "      <td>Michael Kidd-Gilchrist</td>\n",
       "      <td>University of Kentucky</td>\n",
       "      <td>4</td>\n",
       "      <td>0.466</td>\n",
       "      <td>0.238</td>\n",
       "      <td>0.686</td>\n",
       "      <td>26.3</td>\n",
       "      <td>9.1</td>\n",
       "      <td>6.2</td>\n",
       "      <td>1.3</td>\n",
       "    </tr>\n",
       "    <tr>\n",
       "      <th>2</th>\n",
       "      <td>1</td>\n",
       "      <td>3</td>\n",
       "      <td>WAS</td>\n",
       "      <td>Bradley Beal</td>\n",
       "      <td>University of Florida</td>\n",
       "      <td>4</td>\n",
       "      <td>0.424</td>\n",
       "      <td>0.397</td>\n",
       "      <td>0.785</td>\n",
       "      <td>33.1</td>\n",
       "      <td>15.9</td>\n",
       "      <td>3.8</td>\n",
       "      <td>3.0</td>\n",
       "    </tr>\n",
       "    <tr>\n",
       "      <th>3</th>\n",
       "      <td>1</td>\n",
       "      <td>4</td>\n",
       "      <td>CLE</td>\n",
       "      <td>Dion Waiters</td>\n",
       "      <td>Syracuse University</td>\n",
       "      <td>4</td>\n",
       "      <td>0.413</td>\n",
       "      <td>0.333</td>\n",
       "      <td>0.708</td>\n",
       "      <td>28.5</td>\n",
       "      <td>13.2</td>\n",
       "      <td>2.6</td>\n",
       "      <td>2.5</td>\n",
       "    </tr>\n",
       "    <tr>\n",
       "      <th>4</th>\n",
       "      <td>1</td>\n",
       "      <td>5</td>\n",
       "      <td>SAC</td>\n",
       "      <td>Thomas Robinson</td>\n",
       "      <td>University of Kansas</td>\n",
       "      <td>4</td>\n",
       "      <td>0.465</td>\n",
       "      <td>0.000</td>\n",
       "      <td>0.535</td>\n",
       "      <td>13.2</td>\n",
       "      <td>4.7</td>\n",
       "      <td>4.5</td>\n",
       "      <td>0.5</td>\n",
       "    </tr>\n",
       "  </tbody>\n",
       "</table>\n",
       "</div>"
      ],
      "text/plain": [
       "   Rd  Pk   Tm                  Player                 College  Yrs    FG%  \\\n",
       "0   1   1  NOH           Anthony Davis  University of Kentucky    4  0.519   \n",
       "1   1   2  CHA  Michael Kidd-Gilchrist  University of Kentucky    4  0.466   \n",
       "2   1   3  WAS            Bradley Beal   University of Florida    4  0.424   \n",
       "3   1   4  CLE            Dion Waiters     Syracuse University    4  0.413   \n",
       "4   1   5  SAC         Thomas Robinson    University of Kansas    4  0.465   \n",
       "\n",
       "     3P%    FT%    MP   PTS  TRB  AST  \n",
       "0  0.240  0.782  33.8  20.3  9.6  1.6  \n",
       "1  0.238  0.686  26.3   9.1  6.2  1.3  \n",
       "2  0.397  0.785  33.1  15.9  3.8  3.0  \n",
       "3  0.333  0.708  28.5  13.2  2.6  2.5  \n",
       "4  0.000  0.535  13.2   4.7  4.5  0.5  "
      ]
     },
     "execution_count": 5,
     "metadata": {},
     "output_type": "execute_result"
    }
   ],
   "source": [
    "draft.head()"
   ]
  },
  {
   "cell_type": "code",
   "execution_count": 6,
   "metadata": {
    "collapsed": false
   },
   "outputs": [],
   "source": [
    "import string\n",
    "\n",
    "def make_name_key(series):\n",
    "    exclude = set(string.punctuation)\n",
    "    series = series.lower()\n",
    "    series = ''.join(series.split())\n",
    "    series = ''.join(ch for ch in series if ch not in exclude)\n",
    "    return series\n",
    "    \n",
    "draft['namekeys'] = draft['Player'].apply(make_name_key)\n",
    "\n"
   ]
  },
  {
   "cell_type": "code",
   "execution_count": 7,
   "metadata": {
    "collapsed": false
   },
   "outputs": [],
   "source": [
    "draft_2 = draft[['namekeys','Player','Yrs','Rd','Pk','Tm']]"
   ]
  },
  {
   "cell_type": "code",
   "execution_count": 8,
   "metadata": {
    "collapsed": false
   },
   "outputs": [
    {
     "data": {
      "text/html": [
       "<div>\n",
       "<table border=\"1\" class=\"dataframe\">\n",
       "  <thead>\n",
       "    <tr style=\"text-align: right;\">\n",
       "      <th></th>\n",
       "      <th>namekeys</th>\n",
       "      <th>Player</th>\n",
       "      <th>Yrs</th>\n",
       "      <th>Rd</th>\n",
       "      <th>Pk</th>\n",
       "      <th>Tm</th>\n",
       "    </tr>\n",
       "  </thead>\n",
       "  <tbody>\n",
       "    <tr>\n",
       "      <th>0</th>\n",
       "      <td>anthonydavis</td>\n",
       "      <td>Anthony Davis</td>\n",
       "      <td>4</td>\n",
       "      <td>1</td>\n",
       "      <td>1</td>\n",
       "      <td>NOH</td>\n",
       "    </tr>\n",
       "    <tr>\n",
       "      <th>1</th>\n",
       "      <td>michaelkiddgilchrist</td>\n",
       "      <td>Michael Kidd-Gilchrist</td>\n",
       "      <td>4</td>\n",
       "      <td>1</td>\n",
       "      <td>2</td>\n",
       "      <td>CHA</td>\n",
       "    </tr>\n",
       "    <tr>\n",
       "      <th>2</th>\n",
       "      <td>bradleybeal</td>\n",
       "      <td>Bradley Beal</td>\n",
       "      <td>4</td>\n",
       "      <td>1</td>\n",
       "      <td>3</td>\n",
       "      <td>WAS</td>\n",
       "    </tr>\n",
       "    <tr>\n",
       "      <th>3</th>\n",
       "      <td>dionwaiters</td>\n",
       "      <td>Dion Waiters</td>\n",
       "      <td>4</td>\n",
       "      <td>1</td>\n",
       "      <td>4</td>\n",
       "      <td>CLE</td>\n",
       "    </tr>\n",
       "    <tr>\n",
       "      <th>4</th>\n",
       "      <td>thomasrobinson</td>\n",
       "      <td>Thomas Robinson</td>\n",
       "      <td>4</td>\n",
       "      <td>1</td>\n",
       "      <td>5</td>\n",
       "      <td>SAC</td>\n",
       "    </tr>\n",
       "  </tbody>\n",
       "</table>\n",
       "</div>"
      ],
      "text/plain": [
       "               namekeys                  Player  Yrs  Rd  Pk   Tm\n",
       "0          anthonydavis           Anthony Davis    4   1   1  NOH\n",
       "1  michaelkiddgilchrist  Michael Kidd-Gilchrist    4   1   2  CHA\n",
       "2           bradleybeal            Bradley Beal    4   1   3  WAS\n",
       "3           dionwaiters            Dion Waiters    4   1   4  CLE\n",
       "4        thomasrobinson         Thomas Robinson    4   1   5  SAC"
      ]
     },
     "execution_count": 8,
     "metadata": {},
     "output_type": "execute_result"
    }
   ],
   "source": [
    "draft_2.head()"
   ]
  },
  {
   "cell_type": "code",
   "execution_count": 9,
   "metadata": {
    "collapsed": false
   },
   "outputs": [],
   "source": [
    "draft_2.to_csv('2012draft_clean.csv', sep='\\t', encoding='utf-8')"
   ]
  },
  {
   "cell_type": "code",
   "execution_count": null,
   "metadata": {
    "collapsed": true
   },
   "outputs": [],
   "source": []
  }
 ],
 "metadata": {
  "kernelspec": {
   "display_name": "Python 2",
   "language": "python",
   "name": "python2"
  },
  "language_info": {
   "codemirror_mode": {
    "name": "ipython",
    "version": 2
   },
   "file_extension": ".py",
   "mimetype": "text/x-python",
   "name": "python",
   "nbconvert_exporter": "python",
   "pygments_lexer": "ipython2",
   "version": "2.7.10"
  }
 },
 "nbformat": 4,
 "nbformat_minor": 0
}
