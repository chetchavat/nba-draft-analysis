{
 "cells": [
  {
   "cell_type": "code",
   "execution_count": 25,
   "metadata": {
    "collapsed": true
   },
   "outputs": [],
   "source": [
    "import numpy as np\n",
    "import pandas as pd"
   ]
  },
  {
   "cell_type": "code",
   "execution_count": 26,
   "metadata": {
    "collapsed": false
   },
   "outputs": [],
   "source": [
    "ncaa = pd.read_csv('2013-2015_CollegePlayers.csv')"
   ]
  },
  {
   "cell_type": "code",
   "execution_count": 27,
   "metadata": {
    "collapsed": false
   },
   "outputs": [
    {
     "data": {
      "text/plain": [
       "array(['school_name', 'school_id', 'year', 'player_name', 'player_id',\n",
       "       'class_year', 'season', 'position', 'height', 'games',\n",
       "       'field_goals', 'field_goal_attempts', 'field_goal_percents',\n",
       "       'three_pointers', 'three_pointer_attempts', 'three_pointer_percent',\n",
       "       'free_throws', 'free_throw_attemps', 'free_throw_percent',\n",
       "       'rebounds', 'rebounds_per_game', 'assists', 'assists_per_game',\n",
       "       'blocks', 'blocks_per_game', 'steals', 'steals_per_game', 'points',\n",
       "       'points_per_game', 'turnovers'], dtype=object)"
      ]
     },
     "execution_count": 27,
     "metadata": {},
     "output_type": "execute_result"
    }
   ],
   "source": [
    "ncaa.columns.values"
   ]
  },
  {
   "cell_type": "code",
   "execution_count": 28,
   "metadata": {
    "collapsed": false
   },
   "outputs": [],
   "source": [
    "def replace_dash(string):\n",
    "    if string == '-':\n",
    "        return 0\n",
    "    else:\n",
    "        return string"
   ]
  },
  {
   "cell_type": "code",
   "execution_count": 29,
   "metadata": {
    "collapsed": false
   },
   "outputs": [
    {
     "data": {
      "text/plain": [
       "school_name                object\n",
       "school_id                   int64\n",
       "year                        int64\n",
       "player_name                object\n",
       "player_id                   int64\n",
       "class_year                 object\n",
       "season                     object\n",
       "position                   object\n",
       "height                     object\n",
       "games                      object\n",
       "field_goals                 int64\n",
       "field_goal_attempts         int64\n",
       "field_goal_percents       float64\n",
       "three_pointers              int64\n",
       "three_pointer_attempts      int64\n",
       "three_pointer_percent     float64\n",
       "free_throws                 int64\n",
       "free_throw_attemps          int64\n",
       "free_throw_percent        float64\n",
       "rebounds                    int64\n",
       "rebounds_per_game         float64\n",
       "assists                     int64\n",
       "assists_per_game          float64\n",
       "blocks                      int64\n",
       "blocks_per_game           float64\n",
       "steals                      int64\n",
       "steals_per_game           float64\n",
       "points                      int64\n",
       "points_per_game           float64\n",
       "turnovers                   int64\n",
       "dtype: object"
      ]
     },
     "execution_count": 29,
     "metadata": {},
     "output_type": "execute_result"
    }
   ],
   "source": [
    "ncaa['field_goals'] = ncaa['field_goals'].apply(replace_dash).astype(int)\n",
    "ncaa['field_goal_attempts'] = ncaa['field_goal_attempts'].apply(replace_dash).astype(int)\n",
    "ncaa['field_goal_percents'] = ncaa['field_goal_percents'].apply(replace_dash).astype(float)\n",
    "\n",
    "ncaa['three_pointers'] = ncaa['three_pointers'].apply(replace_dash).astype(int)\n",
    "ncaa['three_pointer_attempts'] = ncaa['three_pointer_attempts'].apply(replace_dash).astype(int)\n",
    "ncaa['three_pointer_percent'] = ncaa['three_pointer_percent'].apply(replace_dash).astype(float)\n",
    "\n",
    "ncaa['free_throws'] = ncaa['free_throws'].apply(replace_dash).astype(int)\n",
    "ncaa['free_throw_attemps'] = ncaa['free_throw_attemps'].apply(replace_dash).astype(int)\n",
    "ncaa['free_throw_percent'] = ncaa['free_throw_percent'].apply(replace_dash).astype(float)\n",
    "\n",
    "ncaa['rebounds'] = ncaa['rebounds'].apply(replace_dash).astype(int)\n",
    "ncaa['rebounds_per_game'] = ncaa['rebounds_per_game'].apply(replace_dash).astype(float)\n",
    "\n",
    "ncaa['assists'] = ncaa['assists'].apply(replace_dash).astype(int)\n",
    "ncaa['assists_per_game'] = ncaa['assists_per_game'].apply(replace_dash).astype(float)\n",
    "\n",
    "ncaa['blocks'] = ncaa['blocks'].apply(replace_dash).astype(int)\n",
    "ncaa['blocks_per_game'] = ncaa['blocks_per_game'].apply(replace_dash).astype(float)\n",
    "\n",
    "ncaa['steals'] = ncaa['steals'].apply(replace_dash).astype(int)\n",
    "ncaa['steals_per_game'] = ncaa['steals_per_game'].apply(replace_dash).astype(float)\n",
    "\n",
    "ncaa['points'] = ncaa['points'].apply(replace_dash).astype(int)\n",
    "ncaa['points_per_game'] = ncaa['points_per_game'].apply(replace_dash).astype(float)\n",
    "\n",
    "ncaa['turnovers'] = ncaa['turnovers'].apply(replace_dash).astype(int)\n",
    "\n",
    "\n",
    "ncaa.dtypes"
   ]
  },
  {
   "cell_type": "code",
   "execution_count": 30,
   "metadata": {
    "collapsed": false
   },
   "outputs": [
    {
     "name": "stdout",
     "output_type": "stream",
     "text": [
      "['school_name' 'school_id' 'year' 'player_name' 'player_id' 'class_year'\n",
      " 'season' 'position' 'height' 'games' 'field_goals' 'field_goal_attempts'\n",
      " 'field_goal_percents' 'three_pointers' 'three_pointer_attempts'\n",
      " 'three_pointer_percent' 'free_throws' 'free_throw_attemps'\n",
      " 'free_throw_percent' 'rebounds' 'rebounds_per_game' 'assists'\n",
      " 'assists_per_game' 'blocks' 'blocks_per_game' 'steals' 'steals_per_game'\n",
      " 'points' 'points_per_game' 'turnovers']\n"
     ]
    }
   ],
   "source": [
    "print ncaa.columns.values"
   ]
  },
  {
   "cell_type": "code",
   "execution_count": 31,
   "metadata": {
    "collapsed": true
   },
   "outputs": [],
   "source": [
    "player_names = pd.read_csv('player_table.csv')"
   ]
  },
  {
   "cell_type": "code",
   "execution_count": 32,
   "metadata": {
    "collapsed": false
   },
   "outputs": [
    {
     "data": {
      "text/html": [
       "<div>\n",
       "<table border=\"1\" class=\"dataframe\">\n",
       "  <thead>\n",
       "    <tr style=\"text-align: right;\">\n",
       "      <th></th>\n",
       "      <th>player_id</th>\n",
       "      <th>name</th>\n",
       "    </tr>\n",
       "  </thead>\n",
       "  <tbody>\n",
       "    <tr>\n",
       "      <th>0</th>\n",
       "      <td>1288549</td>\n",
       "      <td>Andrew Gilmore Jr</td>\n",
       "    </tr>\n",
       "    <tr>\n",
       "      <th>1</th>\n",
       "      <td>1285567</td>\n",
       "      <td>Anthony Avent Jr.</td>\n",
       "    </tr>\n",
       "    <tr>\n",
       "      <th>2</th>\n",
       "      <td>1412078</td>\n",
       "      <td>Anthony Welch Jr.</td>\n",
       "    </tr>\n",
       "    <tr>\n",
       "      <th>3</th>\n",
       "      <td>1404406</td>\n",
       "      <td>Anthony White Jr.</td>\n",
       "    </tr>\n",
       "    <tr>\n",
       "      <th>4</th>\n",
       "      <td>1403294</td>\n",
       "      <td>Anthony Beane Jr.</td>\n",
       "    </tr>\n",
       "  </tbody>\n",
       "</table>\n",
       "</div>"
      ],
      "text/plain": [
       "   player_id               name\n",
       "0    1288549  Andrew Gilmore Jr\n",
       "1    1285567  Anthony Avent Jr.\n",
       "2    1412078  Anthony Welch Jr.\n",
       "3    1404406  Anthony White Jr.\n",
       "4    1403294  Anthony Beane Jr."
      ]
     },
     "execution_count": 32,
     "metadata": {},
     "output_type": "execute_result"
    }
   ],
   "source": [
    "player_names.head()"
   ]
  },
  {
   "cell_type": "code",
   "execution_count": 33,
   "metadata": {
    "collapsed": true
   },
   "outputs": [],
   "source": [
    "merge = pd.merge(ncaa, player_names, how = 'left')"
   ]
  },
  {
   "cell_type": "code",
   "execution_count": 34,
   "metadata": {
    "collapsed": false
   },
   "outputs": [
    {
     "data": {
      "text/html": [
       "<div>\n",
       "<table border=\"1\" class=\"dataframe\">\n",
       "  <thead>\n",
       "    <tr style=\"text-align: right;\">\n",
       "      <th></th>\n",
       "      <th>school_name</th>\n",
       "      <th>school_id</th>\n",
       "      <th>year</th>\n",
       "      <th>name</th>\n",
       "      <th>player_id</th>\n",
       "      <th>class_year</th>\n",
       "      <th>season</th>\n",
       "      <th>position</th>\n",
       "      <th>height</th>\n",
       "      <th>games</th>\n",
       "      <th>...</th>\n",
       "      <th>rebounds_per_game</th>\n",
       "      <th>assists</th>\n",
       "      <th>assists_per_game</th>\n",
       "      <th>blocks</th>\n",
       "      <th>blocks_per_game</th>\n",
       "      <th>steals</th>\n",
       "      <th>steals_per_game</th>\n",
       "      <th>points</th>\n",
       "      <th>points_per_game</th>\n",
       "      <th>turnovers</th>\n",
       "    </tr>\n",
       "  </thead>\n",
       "  <tbody>\n",
       "    <tr>\n",
       "      <th>0</th>\n",
       "      <td>A&amp;M-Corpus Christi</td>\n",
       "      <td>26172</td>\n",
       "      <td>2013</td>\n",
       "      <td>Hameed Ali</td>\n",
       "      <td>1289295</td>\n",
       "      <td>So.</td>\n",
       "      <td>2012-13</td>\n",
       "      <td>G</td>\n",
       "      <td>6-2</td>\n",
       "      <td>29</td>\n",
       "      <td>...</td>\n",
       "      <td>1.793</td>\n",
       "      <td>56</td>\n",
       "      <td>1.931</td>\n",
       "      <td>5</td>\n",
       "      <td>0.172</td>\n",
       "      <td>42</td>\n",
       "      <td>1.448</td>\n",
       "      <td>218</td>\n",
       "      <td>7.517</td>\n",
       "      <td>35</td>\n",
       "    </tr>\n",
       "    <tr>\n",
       "      <th>1</th>\n",
       "      <td>A&amp;M-Corpus Christi</td>\n",
       "      <td>26172</td>\n",
       "      <td>2013</td>\n",
       "      <td>Jelani Currie</td>\n",
       "      <td>1402236</td>\n",
       "      <td>Fr.</td>\n",
       "      <td>2012-13</td>\n",
       "      <td>G</td>\n",
       "      <td>6-4</td>\n",
       "      <td>18</td>\n",
       "      <td>...</td>\n",
       "      <td>0.778</td>\n",
       "      <td>7</td>\n",
       "      <td>0.389</td>\n",
       "      <td>2</td>\n",
       "      <td>0.111</td>\n",
       "      <td>0</td>\n",
       "      <td>0.000</td>\n",
       "      <td>32</td>\n",
       "      <td>1.778</td>\n",
       "      <td>14</td>\n",
       "    </tr>\n",
       "    <tr>\n",
       "      <th>2</th>\n",
       "      <td>A&amp;M-Corpus Christi</td>\n",
       "      <td>26172</td>\n",
       "      <td>2013</td>\n",
       "      <td>Kennon Dvorak</td>\n",
       "      <td>1289297</td>\n",
       "      <td>Jr.</td>\n",
       "      <td>2012-13</td>\n",
       "      <td>G</td>\n",
       "      <td>6-2</td>\n",
       "      <td>13</td>\n",
       "      <td>...</td>\n",
       "      <td>1.000</td>\n",
       "      <td>2</td>\n",
       "      <td>0.154</td>\n",
       "      <td>0</td>\n",
       "      <td>0.000</td>\n",
       "      <td>2</td>\n",
       "      <td>0.154</td>\n",
       "      <td>14</td>\n",
       "      <td>1.077</td>\n",
       "      <td>6</td>\n",
       "    </tr>\n",
       "    <tr>\n",
       "      <th>3</th>\n",
       "      <td>A&amp;M-Corpus Christi</td>\n",
       "      <td>26172</td>\n",
       "      <td>2013</td>\n",
       "      <td>Dale Francis</td>\n",
       "      <td>1402237</td>\n",
       "      <td>Fr.</td>\n",
       "      <td>2012-13</td>\n",
       "      <td>F</td>\n",
       "      <td>6-9</td>\n",
       "      <td>29</td>\n",
       "      <td>...</td>\n",
       "      <td>2.034</td>\n",
       "      <td>3</td>\n",
       "      <td>0.103</td>\n",
       "      <td>7</td>\n",
       "      <td>0.241</td>\n",
       "      <td>8</td>\n",
       "      <td>0.276</td>\n",
       "      <td>58</td>\n",
       "      <td>2.000</td>\n",
       "      <td>21</td>\n",
       "    </tr>\n",
       "    <tr>\n",
       "      <th>4</th>\n",
       "      <td>A&amp;M-Corpus Christi</td>\n",
       "      <td>26172</td>\n",
       "      <td>2013</td>\n",
       "      <td>Johnathan Jordan</td>\n",
       "      <td>1289299</td>\n",
       "      <td>So.</td>\n",
       "      <td>2012-13</td>\n",
       "      <td>G</td>\n",
       "      <td>5-10</td>\n",
       "      <td>29</td>\n",
       "      <td>...</td>\n",
       "      <td>4.828</td>\n",
       "      <td>159</td>\n",
       "      <td>5.483</td>\n",
       "      <td>5</td>\n",
       "      <td>0.172</td>\n",
       "      <td>39</td>\n",
       "      <td>1.345</td>\n",
       "      <td>372</td>\n",
       "      <td>12.828</td>\n",
       "      <td>82</td>\n",
       "    </tr>\n",
       "  </tbody>\n",
       "</table>\n",
       "<p>5 rows × 30 columns</p>\n",
       "</div>"
      ],
      "text/plain": [
       "          school_name  school_id  year              name  player_id  \\\n",
       "0  A&M-Corpus Christi      26172  2013        Hameed Ali    1289295   \n",
       "1  A&M-Corpus Christi      26172  2013     Jelani Currie    1402236   \n",
       "2  A&M-Corpus Christi      26172  2013     Kennon Dvorak    1289297   \n",
       "3  A&M-Corpus Christi      26172  2013      Dale Francis    1402237   \n",
       "4  A&M-Corpus Christi      26172  2013  Johnathan Jordan    1289299   \n",
       "\n",
       "  class_year   season position height games    ...      rebounds_per_game  \\\n",
       "0        So.  2012-13        G    6-2    29    ...                  1.793   \n",
       "1        Fr.  2012-13        G    6-4    18    ...                  0.778   \n",
       "2        Jr.  2012-13        G    6-2    13    ...                  1.000   \n",
       "3        Fr.  2012-13        F    6-9    29    ...                  2.034   \n",
       "4        So.  2012-13        G   5-10    29    ...                  4.828   \n",
       "\n",
       "   assists  assists_per_game  blocks  blocks_per_game  steals  \\\n",
       "0       56             1.931       5            0.172      42   \n",
       "1        7             0.389       2            0.111       0   \n",
       "2        2             0.154       0            0.000       2   \n",
       "3        3             0.103       7            0.241       8   \n",
       "4      159             5.483       5            0.172      39   \n",
       "\n",
       "   steals_per_game  points  points_per_game  turnovers  \n",
       "0            1.448     218            7.517         35  \n",
       "1            0.000      32            1.778         14  \n",
       "2            0.154      14            1.077          6  \n",
       "3            0.276      58            2.000         21  \n",
       "4            1.345     372           12.828         82  \n",
       "\n",
       "[5 rows x 30 columns]"
      ]
     },
     "execution_count": 34,
     "metadata": {},
     "output_type": "execute_result"
    }
   ],
   "source": [
    "new_cols = ['school_name','school_id','year','name','player_id','class_year',\n",
    " 'season','position','height','games','field_goals','field_goal_attempts',\n",
    " 'field_goal_percents','three_pointers','three_pointer_attempts',\n",
    " 'three_pointer_percent','free_throws','free_throw_attemps',\n",
    " 'free_throw_percent','rebounds','rebounds_per_game','assists',\n",
    " 'assists_per_game','blocks','blocks_per_game','steals','steals_per_game',\n",
    " 'points','points_per_game','turnovers']\n",
    "ncaa_2 = merge[new_cols]\n",
    "ncaa_2.head()"
   ]
  },
  {
   "cell_type": "code",
   "execution_count": 38,
   "metadata": {
    "collapsed": false
   },
   "outputs": [],
   "source": [
    "import string\n",
    "\n",
    "def make_name_key(series):\n",
    "    exclude = set(string.punctuation)\n",
    "    series = series.lower()\n",
    "    series = ''.join(series.split())\n",
    "    series = ''.join(ch for ch in series if ch not in exclude)\n",
    "    return series\n",
    "    \n",
    "ncaa_2['namekeys'] = ncaa_2['name'].apply(make_name_key)\n",
    "\n"
   ]
  },
  {
   "cell_type": "code",
   "execution_count": 40,
   "metadata": {
    "collapsed": false
   },
   "outputs": [
    {
     "data": {
      "text/plain": [
       "0          hameedali\n",
       "1       jelanicurrie\n",
       "2       kennondvorak\n",
       "3        dalefrancis\n",
       "4    johnathanjordan\n",
       "Name: namekeys, dtype: object"
      ]
     },
     "execution_count": 40,
     "metadata": {},
     "output_type": "execute_result"
    }
   ],
   "source": [
    "ncaa_2['namekeys'].head()"
   ]
  },
  {
   "cell_type": "code",
   "execution_count": 11,
   "metadata": {
    "collapsed": false
   },
   "outputs": [],
   "source": [
    "ncaa_2.to_csv('ncaa_players_clean.csv', sep='\\t', encoding='utf-8')"
   ]
  }
 ],
 "metadata": {
  "kernelspec": {
   "display_name": "Python 2",
   "language": "python",
   "name": "python2"
  },
  "language_info": {
   "codemirror_mode": {
    "name": "ipython",
    "version": 2
   },
   "file_extension": ".py",
   "mimetype": "text/x-python",
   "name": "python",
   "nbconvert_exporter": "python",
   "pygments_lexer": "ipython2",
   "version": "2.7.10"
  }
 },
 "nbformat": 4,
 "nbformat_minor": 0
}
